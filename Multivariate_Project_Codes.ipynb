{
  "nbformat": 4,
  "nbformat_minor": 0,
  "metadata": {
    "colab": {
      "name": "Multivariate Project Codes.ipynb",
      "provenance": [],
      "collapsed_sections": [],
      "include_colab_link": true
    },
    "kernelspec": {
      "name": "python3",
      "display_name": "Python 3"
    },
    "language_info": {
      "name": "python"
    }
  },
  "cells": [
    {
      "cell_type": "markdown",
      "metadata": {
        "id": "view-in-github",
        "colab_type": "text"
      },
      "source": [
        "<a href=\"https://colab.research.google.com/github/waghmarerupvant4/my_projects/blob/main/Multivariate_Project_Codes.ipynb\" target=\"_parent\"><img src=\"https://colab.research.google.com/assets/colab-badge.svg\" alt=\"Open In Colab\"/></a>"
      ]
    },
    {
      "cell_type": "code",
      "metadata": {
        "colab": {
          "resources": {
            "http://localhost:8080/nbextensions/google.colab/files.js": {
              "data": "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",
              "ok": true,
              "headers": [
                [
                  "content-type",
                  "application/javascript"
                ]
              ],
              "status": 200,
              "status_text": ""
            }
          },
          "base_uri": "https://localhost:8080/",
          "height": 73
        },
        "id": "1LqsavkXUiOP",
        "outputId": "4fa1fca4-f502-4fb7-a6de-de5f7283684f"
      },
      "source": [
        "from google.colab import files\n",
        "Data=files.upload()"
      ],
      "execution_count": null,
      "outputs": [
        {
          "output_type": "display_data",
          "data": {
            "text/html": [
              "\n",
              "     <input type=\"file\" id=\"files-329db5da-38cd-43de-8970-096381bc48b9\" name=\"files[]\" multiple disabled\n",
              "        style=\"border:none\" />\n",
              "     <output id=\"result-329db5da-38cd-43de-8970-096381bc48b9\">\n",
              "      Upload widget is only available when the cell has been executed in the\n",
              "      current browser session. Please rerun this cell to enable.\n",
              "      </output>\n",
              "      <script src=\"/nbextensions/google.colab/files.js\"></script> "
            ],
            "text/plain": [
              "<IPython.core.display.HTML object>"
            ]
          },
          "metadata": {
            "tags": []
          }
        },
        {
          "output_type": "stream",
          "text": [
            "Saving bank loan.csv to bank loan (3).csv\n"
          ],
          "name": "stdout"
        }
      ]
    },
    {
      "cell_type": "code",
      "metadata": {
        "id": "VO7YoKmhU0MP"
      },
      "source": [
        "import pandas as pd\n",
        "import io\n",
        "import numpy as np\n",
        "import seaborn as sns\n",
        "from matplotlib import pyplot as plt\n",
        "%matplotlib inline"
      ],
      "execution_count": null,
      "outputs": []
    },
    {
      "cell_type": "code",
      "metadata": {
        "id": "AHOEGHiAVCsw",
        "colab": {
          "base_uri": "https://localhost:8080/",
          "height": 406
        },
        "outputId": "ec51a3ce-37bf-4877-9c53-8634bee66862"
      },
      "source": [
        "df = pd.read_csv(io.BytesIO(Data['bank loan.csv']))\n",
        "data=df[:850]\n",
        "data"
      ],
      "execution_count": null,
      "outputs": [
        {
          "output_type": "execute_result",
          "data": {
            "text/html": [
              "<div>\n",
              "<style scoped>\n",
              "    .dataframe tbody tr th:only-of-type {\n",
              "        vertical-align: middle;\n",
              "    }\n",
              "\n",
              "    .dataframe tbody tr th {\n",
              "        vertical-align: top;\n",
              "    }\n",
              "\n",
              "    .dataframe thead th {\n",
              "        text-align: right;\n",
              "    }\n",
              "</style>\n",
              "<table border=\"1\" class=\"dataframe\">\n",
              "  <thead>\n",
              "    <tr style=\"text-align: right;\">\n",
              "      <th></th>\n",
              "      <th>age</th>\n",
              "      <th>educ</th>\n",
              "      <th>employ</th>\n",
              "      <th>address</th>\n",
              "      <th>income</th>\n",
              "      <th>debtinc</th>\n",
              "      <th>creddebt</th>\n",
              "      <th>othdebt</th>\n",
              "      <th>default</th>\n",
              "      <th>Gender</th>\n",
              "      <th>Employment</th>\n",
              "    </tr>\n",
              "  </thead>\n",
              "  <tbody>\n",
              "    <tr>\n",
              "      <th>0</th>\n",
              "      <td>41yrs</td>\n",
              "      <td>Post-undergraduate degree</td>\n",
              "      <td>17</td>\n",
              "      <td>12</td>\n",
              "      <td>176</td>\n",
              "      <td>9.3</td>\n",
              "      <td>11.36</td>\n",
              "      <td>5.01</td>\n",
              "      <td>yes</td>\n",
              "      <td>male</td>\n",
              "      <td>0.0</td>\n",
              "    </tr>\n",
              "    <tr>\n",
              "      <th>1</th>\n",
              "      <td>27yrs</td>\n",
              "      <td>Post-undergraduate degree</td>\n",
              "      <td>10</td>\n",
              "      <td>6</td>\n",
              "      <td>31</td>\n",
              "      <td>17.3</td>\n",
              "      <td>1.36</td>\n",
              "      <td>4.00</td>\n",
              "      <td>NO</td>\n",
              "      <td>male</td>\n",
              "      <td>2.0</td>\n",
              "    </tr>\n",
              "    <tr>\n",
              "      <th>2</th>\n",
              "      <td>40yrs</td>\n",
              "      <td>Did not complete high school</td>\n",
              "      <td>15</td>\n",
              "      <td>14</td>\n",
              "      <td>55</td>\n",
              "      <td>5.5</td>\n",
              "      <td>0.86</td>\n",
              "      <td>2.17</td>\n",
              "      <td>NO</td>\n",
              "      <td>F</td>\n",
              "      <td>1.0</td>\n",
              "    </tr>\n",
              "    <tr>\n",
              "      <th>3</th>\n",
              "      <td>41yrs</td>\n",
              "      <td>Post-undergraduate degree</td>\n",
              "      <td>15</td>\n",
              "      <td>14</td>\n",
              "      <td>120</td>\n",
              "      <td>2.9</td>\n",
              "      <td>2.66</td>\n",
              "      <td>0.82</td>\n",
              "      <td>NO</td>\n",
              "      <td>F</td>\n",
              "      <td>1.0</td>\n",
              "    </tr>\n",
              "    <tr>\n",
              "      <th>4</th>\n",
              "      <td>24yrs</td>\n",
              "      <td>High school degree</td>\n",
              "      <td>2</td>\n",
              "      <td>0</td>\n",
              "      <td>28</td>\n",
              "      <td>17.3</td>\n",
              "      <td>1.79</td>\n",
              "      <td>3.06</td>\n",
              "      <td>yes</td>\n",
              "      <td>male</td>\n",
              "      <td>2.0</td>\n",
              "    </tr>\n",
              "    <tr>\n",
              "      <th>...</th>\n",
              "      <td>...</td>\n",
              "      <td>...</td>\n",
              "      <td>...</td>\n",
              "      <td>...</td>\n",
              "      <td>...</td>\n",
              "      <td>...</td>\n",
              "      <td>...</td>\n",
              "      <td>...</td>\n",
              "      <td>...</td>\n",
              "      <td>...</td>\n",
              "      <td>...</td>\n",
              "    </tr>\n",
              "    <tr>\n",
              "      <th>845</th>\n",
              "      <td>34yrs</td>\n",
              "      <td>Did not complete high school</td>\n",
              "      <td>12</td>\n",
              "      <td>15</td>\n",
              "      <td>32</td>\n",
              "      <td>2.7</td>\n",
              "      <td>0.24</td>\n",
              "      <td>0.62</td>\n",
              "      <td>NaN</td>\n",
              "      <td>NaN</td>\n",
              "      <td>NaN</td>\n",
              "    </tr>\n",
              "    <tr>\n",
              "      <th>846</th>\n",
              "      <td>32yrs</td>\n",
              "      <td>Post-undergraduate degree</td>\n",
              "      <td>12</td>\n",
              "      <td>11</td>\n",
              "      <td>116</td>\n",
              "      <td>5.7</td>\n",
              "      <td>4.03</td>\n",
              "      <td>2.59</td>\n",
              "      <td>NaN</td>\n",
              "      <td>NaN</td>\n",
              "      <td>NaN</td>\n",
              "    </tr>\n",
              "    <tr>\n",
              "      <th>847</th>\n",
              "      <td>48yrs</td>\n",
              "      <td>Post-undergraduate degree</td>\n",
              "      <td>13</td>\n",
              "      <td>11</td>\n",
              "      <td>38</td>\n",
              "      <td>10.8</td>\n",
              "      <td>0.72</td>\n",
              "      <td>3.38</td>\n",
              "      <td>NaN</td>\n",
              "      <td>NaN</td>\n",
              "      <td>NaN</td>\n",
              "    </tr>\n",
              "    <tr>\n",
              "      <th>848</th>\n",
              "      <td>35yrs</td>\n",
              "      <td>College degree</td>\n",
              "      <td>1</td>\n",
              "      <td>11</td>\n",
              "      <td>24</td>\n",
              "      <td>7.8</td>\n",
              "      <td>0.42</td>\n",
              "      <td>1.45</td>\n",
              "      <td>NaN</td>\n",
              "      <td>NaN</td>\n",
              "      <td>NaN</td>\n",
              "    </tr>\n",
              "    <tr>\n",
              "      <th>849</th>\n",
              "      <td>37yrs</td>\n",
              "      <td>Post-undergraduate degree</td>\n",
              "      <td>20</td>\n",
              "      <td>13</td>\n",
              "      <td>41</td>\n",
              "      <td>12.9</td>\n",
              "      <td>0.90</td>\n",
              "      <td>4.39</td>\n",
              "      <td>NaN</td>\n",
              "      <td>NaN</td>\n",
              "      <td>NaN</td>\n",
              "    </tr>\n",
              "  </tbody>\n",
              "</table>\n",
              "<p>850 rows × 11 columns</p>\n",
              "</div>"
            ],
            "text/plain": [
              "       age                          educ  employ  ...  default  Gender  Employment\n",
              "0    41yrs     Post-undergraduate degree      17  ...      yes    male         0.0\n",
              "1    27yrs     Post-undergraduate degree      10  ...       NO    male         2.0\n",
              "2    40yrs  Did not complete high school      15  ...       NO       F         1.0\n",
              "3    41yrs     Post-undergraduate degree      15  ...       NO       F         1.0\n",
              "4    24yrs            High school degree       2  ...      yes    male         2.0\n",
              "..     ...                           ...     ...  ...      ...     ...         ...\n",
              "845  34yrs  Did not complete high school      12  ...      NaN     NaN         NaN\n",
              "846  32yrs     Post-undergraduate degree      12  ...      NaN     NaN         NaN\n",
              "847  48yrs     Post-undergraduate degree      13  ...      NaN     NaN         NaN\n",
              "848  35yrs                College degree       1  ...      NaN     NaN         NaN\n",
              "849  37yrs     Post-undergraduate degree      20  ...      NaN     NaN         NaN\n",
              "\n",
              "[850 rows x 11 columns]"
            ]
          },
          "metadata": {
            "tags": []
          },
          "execution_count": 166
        }
      ]
    },
    {
      "cell_type": "code",
      "metadata": {
        "colab": {
          "base_uri": "https://localhost:8080/"
        },
        "id": "HntQ3CwYodgp",
        "outputId": "2e16fef7-bfa8-42f0-c4f3-f53200086417"
      },
      "source": [
        "# Cleaning Age\n",
        "for i in range(850):\n",
        "  a=data['age'][i]\n",
        "  b=a[0]+a[1]\n",
        "  age=int(b)\n",
        "  data['age'][i]=age"
      ],
      "execution_count": null,
      "outputs": [
        {
          "output_type": "stream",
          "text": [
            "/usr/local/lib/python3.7/dist-packages/ipykernel_launcher.py:6: SettingWithCopyWarning: \n",
            "A value is trying to be set on a copy of a slice from a DataFrame\n",
            "\n",
            "See the caveats in the documentation: https://pandas.pydata.org/pandas-docs/stable/user_guide/indexing.html#returning-a-view-versus-a-copy\n",
            "  \n",
            "/usr/local/lib/python3.7/dist-packages/IPython/core/interactiveshell.py:2882: SettingWithCopyWarning: \n",
            "A value is trying to be set on a copy of a slice from a DataFrame\n",
            "\n",
            "See the caveats in the documentation: https://pandas.pydata.org/pandas-docs/stable/user_guide/indexing.html#returning-a-view-versus-a-copy\n",
            "  exec(code_obj, self.user_global_ns, self.user_ns)\n"
          ],
          "name": "stderr"
        }
      ]
    },
    {
      "cell_type": "markdown",
      "metadata": {
        "id": "RwpSXwmSufi0"
      },
      "source": [
        "# Cleaning Education"
      ]
    },
    {
      "cell_type": "code",
      "metadata": {
        "colab": {
          "base_uri": "https://localhost:8080/"
        },
        "id": "iBqoMvGwqOv8",
        "outputId": "ade22838-1fe7-44c3-87c5-1801f39a727a"
      },
      "source": [
        "data['educ'].value_counts() "
      ],
      "execution_count": null,
      "outputs": [
        {
          "output_type": "execute_result",
          "data": {
            "text/plain": [
              "Did not complete high school    240\n",
              "High school degree              179\n",
              "Some college                    154\n",
              "Post-undergraduate degree       152\n",
              "College degree                  125\n",
              "Name: educ, dtype: int64"
            ]
          },
          "metadata": {
            "tags": []
          },
          "execution_count": 168
        }
      ]
    },
    {
      "cell_type": "code",
      "metadata": {
        "colab": {
          "base_uri": "https://localhost:8080/"
        },
        "id": "iDytUXB-s7Ay",
        "outputId": "abd8687a-9ed1-4e74-8a6e-6a2067bd3335"
      },
      "source": [
        "# allocation integer value to the 'educ' classes\n",
        "for i in range(850):\n",
        "  if data['educ'][i] == 'Did not complete high school':\n",
        "    data['educ'][i] = 'D'\n",
        "  elif data['educ'][i] == 'High school degree':\n",
        "    data['educ'][i] = 'C'\n",
        "  elif data['educ'][i] == 'Some college':\n",
        "    data['educ'][i] = 'B'\n",
        "  elif data['educ'][i] == 'College degree':\n",
        "    data['educ'][i] = 'B'  \n",
        "  elif data['educ'][i] == 'Post-undergraduate degree':\n",
        "    data['educ'][i] = 'A'"
      ],
      "execution_count": null,
      "outputs": [
        {
          "output_type": "stream",
          "text": [
            "/usr/local/lib/python3.7/dist-packages/ipykernel_launcher.py:12: SettingWithCopyWarning: \n",
            "A value is trying to be set on a copy of a slice from a DataFrame\n",
            "\n",
            "See the caveats in the documentation: https://pandas.pydata.org/pandas-docs/stable/user_guide/indexing.html#returning-a-view-versus-a-copy\n",
            "  if sys.path[0] == '':\n",
            "/usr/local/lib/python3.7/dist-packages/IPython/core/interactiveshell.py:2882: SettingWithCopyWarning: \n",
            "A value is trying to be set on a copy of a slice from a DataFrame\n",
            "\n",
            "See the caveats in the documentation: https://pandas.pydata.org/pandas-docs/stable/user_guide/indexing.html#returning-a-view-versus-a-copy\n",
            "  exec(code_obj, self.user_global_ns, self.user_ns)\n",
            "/usr/local/lib/python3.7/dist-packages/ipykernel_launcher.py:4: SettingWithCopyWarning: \n",
            "A value is trying to be set on a copy of a slice from a DataFrame\n",
            "\n",
            "See the caveats in the documentation: https://pandas.pydata.org/pandas-docs/stable/user_guide/indexing.html#returning-a-view-versus-a-copy\n",
            "  after removing the cwd from sys.path.\n",
            "/usr/local/lib/python3.7/dist-packages/ipykernel_launcher.py:6: SettingWithCopyWarning: \n",
            "A value is trying to be set on a copy of a slice from a DataFrame\n",
            "\n",
            "See the caveats in the documentation: https://pandas.pydata.org/pandas-docs/stable/user_guide/indexing.html#returning-a-view-versus-a-copy\n",
            "  \n",
            "/usr/local/lib/python3.7/dist-packages/ipykernel_launcher.py:10: SettingWithCopyWarning: \n",
            "A value is trying to be set on a copy of a slice from a DataFrame\n",
            "\n",
            "See the caveats in the documentation: https://pandas.pydata.org/pandas-docs/stable/user_guide/indexing.html#returning-a-view-versus-a-copy\n",
            "  # Remove the CWD from sys.path while we load stuff.\n",
            "/usr/local/lib/python3.7/dist-packages/ipykernel_launcher.py:8: SettingWithCopyWarning: \n",
            "A value is trying to be set on a copy of a slice from a DataFrame\n",
            "\n",
            "See the caveats in the documentation: https://pandas.pydata.org/pandas-docs/stable/user_guide/indexing.html#returning-a-view-versus-a-copy\n",
            "  \n"
          ],
          "name": "stderr"
        }
      ]
    },
    {
      "cell_type": "code",
      "metadata": {
        "colab": {
          "base_uri": "https://localhost:8080/"
        },
        "id": "l8ZdWhq09iUD",
        "outputId": "c5163b65-c316-491e-bb01-e795ebf65dd9"
      },
      "source": [
        "data['educ'].value_counts() "
      ],
      "execution_count": null,
      "outputs": [
        {
          "output_type": "execute_result",
          "data": {
            "text/plain": [
              "B    279\n",
              "D    240\n",
              "C    179\n",
              "A    152\n",
              "Name: educ, dtype: int64"
            ]
          },
          "metadata": {
            "tags": []
          },
          "execution_count": 170
        }
      ]
    },
    {
      "cell_type": "markdown",
      "metadata": {
        "id": "p3maIpaFwGjC"
      },
      "source": [
        "Cleaning employ"
      ]
    },
    {
      "cell_type": "code",
      "metadata": {
        "id": "bQynoZCkujqV"
      },
      "source": [
        "data=data[['age','educ','employ','address','income','debtinc','creddebt','othdebt','default','Gender','Employment']]"
      ],
      "execution_count": null,
      "outputs": []
    },
    {
      "cell_type": "code",
      "metadata": {
        "colab": {
          "base_uri": "https://localhost:8080/"
        },
        "id": "6kekGWDQz6w_",
        "outputId": "f21405a8-b2bc-4d83-e2a1-1075f3c9407d"
      },
      "source": [
        "data['Employment'].value_counts()"
      ],
      "execution_count": null,
      "outputs": [
        {
          "output_type": "execute_result",
          "data": {
            "text/plain": [
              "1.0    334\n",
              "2.0    195\n",
              "0.0    171\n",
              "Name: Employment, dtype: int64"
            ]
          },
          "metadata": {
            "tags": []
          },
          "execution_count": 172
        }
      ]
    },
    {
      "cell_type": "code",
      "metadata": {
        "colab": {
          "base_uri": "https://localhost:8080/"
        },
        "id": "Q5dQhk0y1bsm",
        "outputId": "3ad56a80-994a-4568-87f3-689b2e8e83e8"
      },
      "source": [
        "data['Gender'].value_counts()"
      ],
      "execution_count": null,
      "outputs": [
        {
          "output_type": "execute_result",
          "data": {
            "text/plain": [
              "FEMALE    172\n",
              "M         106\n",
              "F         106\n",
              "Female     93\n",
              "MALE       73\n",
              "male       52\n",
              "m          51\n",
              "female     47\n",
              "Name: Gender, dtype: int64"
            ]
          },
          "metadata": {
            "tags": []
          },
          "execution_count": 173
        }
      ]
    },
    {
      "cell_type": "markdown",
      "metadata": {
        "id": "NRQSdxkS1iVB"
      },
      "source": [
        "Cleaning Gender"
      ]
    },
    {
      "cell_type": "code",
      "metadata": {
        "colab": {
          "base_uri": "https://localhost:8080/"
        },
        "id": "WgerOHPv1g9J",
        "outputId": "a7056a81-4d38-4579-c22b-75e8a2c590b5"
      },
      "source": [
        "for i in range(850):\n",
        "  if data['Gender'][i]=='FEMALE':\n",
        "    data['Gender'][i]=0\n",
        "  elif data['Gender'][i]=='Female':\n",
        "    data['Gender'][i]=0\n",
        "  elif data['Gender'][i]=='F':\n",
        "    data['Gender'][i]=0\n",
        "  elif data['Gender'][i]=='female':\n",
        "    data['Gender'][i]=0\n",
        "  elif data['Gender'][i]=='MALE':\n",
        "    data['Gender'][i]=1\n",
        "  elif data['Gender'][i]=='male':\n",
        "    data['Gender'][i]=1\n",
        "  elif data['Gender'][i]=='m':\n",
        "    data['Gender'][i]=1\n",
        "  elif data['Gender'][i]=='M':\n",
        "    data['Gender'][i]=1"
      ],
      "execution_count": null,
      "outputs": [
        {
          "output_type": "stream",
          "text": [
            "/usr/local/lib/python3.7/dist-packages/ipykernel_launcher.py:13: SettingWithCopyWarning: \n",
            "A value is trying to be set on a copy of a slice from a DataFrame\n",
            "\n",
            "See the caveats in the documentation: https://pandas.pydata.org/pandas-docs/stable/user_guide/indexing.html#returning-a-view-versus-a-copy\n",
            "  del sys.path[0]\n",
            "/usr/local/lib/python3.7/dist-packages/ipykernel_launcher.py:7: SettingWithCopyWarning: \n",
            "A value is trying to be set on a copy of a slice from a DataFrame\n",
            "\n",
            "See the caveats in the documentation: https://pandas.pydata.org/pandas-docs/stable/user_guide/indexing.html#returning-a-view-versus-a-copy\n",
            "  import sys\n",
            "/usr/local/lib/python3.7/dist-packages/ipykernel_launcher.py:9: SettingWithCopyWarning: \n",
            "A value is trying to be set on a copy of a slice from a DataFrame\n",
            "\n",
            "See the caveats in the documentation: https://pandas.pydata.org/pandas-docs/stable/user_guide/indexing.html#returning-a-view-versus-a-copy\n",
            "  if __name__ == '__main__':\n",
            "/usr/local/lib/python3.7/dist-packages/ipykernel_launcher.py:5: SettingWithCopyWarning: \n",
            "A value is trying to be set on a copy of a slice from a DataFrame\n",
            "\n",
            "See the caveats in the documentation: https://pandas.pydata.org/pandas-docs/stable/user_guide/indexing.html#returning-a-view-versus-a-copy\n",
            "  \"\"\"\n",
            "/usr/local/lib/python3.7/dist-packages/ipykernel_launcher.py:17: SettingWithCopyWarning: \n",
            "A value is trying to be set on a copy of a slice from a DataFrame\n",
            "\n",
            "See the caveats in the documentation: https://pandas.pydata.org/pandas-docs/stable/user_guide/indexing.html#returning-a-view-versus-a-copy\n",
            "/usr/local/lib/python3.7/dist-packages/ipykernel_launcher.py:15: SettingWithCopyWarning: \n",
            "A value is trying to be set on a copy of a slice from a DataFrame\n",
            "\n",
            "See the caveats in the documentation: https://pandas.pydata.org/pandas-docs/stable/user_guide/indexing.html#returning-a-view-versus-a-copy\n",
            "  from ipykernel import kernelapp as app\n",
            "/usr/local/lib/python3.7/dist-packages/ipykernel_launcher.py:3: SettingWithCopyWarning: \n",
            "A value is trying to be set on a copy of a slice from a DataFrame\n",
            "\n",
            "See the caveats in the documentation: https://pandas.pydata.org/pandas-docs/stable/user_guide/indexing.html#returning-a-view-versus-a-copy\n",
            "  This is separate from the ipykernel package so we can avoid doing imports until\n",
            "/usr/local/lib/python3.7/dist-packages/ipykernel_launcher.py:11: SettingWithCopyWarning: \n",
            "A value is trying to be set on a copy of a slice from a DataFrame\n",
            "\n",
            "See the caveats in the documentation: https://pandas.pydata.org/pandas-docs/stable/user_guide/indexing.html#returning-a-view-versus-a-copy\n",
            "  # This is added back by InteractiveShellApp.init_path()\n"
          ],
          "name": "stderr"
        }
      ]
    },
    {
      "cell_type": "code",
      "metadata": {
        "colab": {
          "base_uri": "https://localhost:8080/"
        },
        "id": "L665KnQw2M_k",
        "outputId": "fc53af69-f720-4b6e-c4f6-74fd8fee6e33"
      },
      "source": [
        "data['Gender'].value_counts()"
      ],
      "execution_count": null,
      "outputs": [
        {
          "output_type": "execute_result",
          "data": {
            "text/plain": [
              "0    418\n",
              "1    282\n",
              "Name: Gender, dtype: int64"
            ]
          },
          "metadata": {
            "tags": []
          },
          "execution_count": 175
        }
      ]
    },
    {
      "cell_type": "code",
      "metadata": {
        "colab": {
          "base_uri": "https://localhost:8080/"
        },
        "id": "JjeqIhXx3ZUM",
        "outputId": "f48a38e9-9122-4280-8b09-ef696a2d2b1b"
      },
      "source": [
        "# Changing Default value from Yes/No to 0 and 1\n",
        "for i in range(850):\n",
        "  if data['default'][i]=='yes':\n",
        "    data['default'][i]='1'\n",
        "  elif data['default'][i]=='Yes':\n",
        "    data['default'][i]='1'\n",
        "  elif data['default'][i]=='YES':\n",
        "    data['default'][i]='1'\n",
        "  elif data['default'][i]=='Y':\n",
        "    data['default'][i]='1'\n",
        "  elif data['default'][i]=='NO':\n",
        "    data['default'][i]='0'\n",
        "  elif data['default'][i]=='No':\n",
        "    data['default'][i]='0'\n",
        "  elif data['default'][i]=='no':\n",
        "    data['default'][i]='0'\n",
        "  elif data['default'][i]=='N':\n",
        "    data['default'][i]='0'"
      ],
      "execution_count": null,
      "outputs": [
        {
          "output_type": "stream",
          "text": [
            "/usr/local/lib/python3.7/dist-packages/ipykernel_launcher.py:4: SettingWithCopyWarning: \n",
            "A value is trying to be set on a copy of a slice from a DataFrame\n",
            "\n",
            "See the caveats in the documentation: https://pandas.pydata.org/pandas-docs/stable/user_guide/indexing.html#returning-a-view-versus-a-copy\n",
            "  after removing the cwd from sys.path.\n",
            "/usr/local/lib/python3.7/dist-packages/ipykernel_launcher.py:12: SettingWithCopyWarning: \n",
            "A value is trying to be set on a copy of a slice from a DataFrame\n",
            "\n",
            "See the caveats in the documentation: https://pandas.pydata.org/pandas-docs/stable/user_guide/indexing.html#returning-a-view-versus-a-copy\n",
            "  if sys.path[0] == '':\n",
            "/usr/local/lib/python3.7/dist-packages/ipykernel_launcher.py:16: SettingWithCopyWarning: \n",
            "A value is trying to be set on a copy of a slice from a DataFrame\n",
            "\n",
            "See the caveats in the documentation: https://pandas.pydata.org/pandas-docs/stable/user_guide/indexing.html#returning-a-view-versus-a-copy\n",
            "  app.launch_new_instance()\n",
            "/usr/local/lib/python3.7/dist-packages/ipykernel_launcher.py:10: SettingWithCopyWarning: \n",
            "A value is trying to be set on a copy of a slice from a DataFrame\n",
            "\n",
            "See the caveats in the documentation: https://pandas.pydata.org/pandas-docs/stable/user_guide/indexing.html#returning-a-view-versus-a-copy\n",
            "  # Remove the CWD from sys.path while we load stuff.\n",
            "/usr/local/lib/python3.7/dist-packages/ipykernel_launcher.py:18: SettingWithCopyWarning: \n",
            "A value is trying to be set on a copy of a slice from a DataFrame\n",
            "\n",
            "See the caveats in the documentation: https://pandas.pydata.org/pandas-docs/stable/user_guide/indexing.html#returning-a-view-versus-a-copy\n",
            "/usr/local/lib/python3.7/dist-packages/ipykernel_launcher.py:8: SettingWithCopyWarning: \n",
            "A value is trying to be set on a copy of a slice from a DataFrame\n",
            "\n",
            "See the caveats in the documentation: https://pandas.pydata.org/pandas-docs/stable/user_guide/indexing.html#returning-a-view-versus-a-copy\n",
            "  \n",
            "/usr/local/lib/python3.7/dist-packages/ipykernel_launcher.py:6: SettingWithCopyWarning: \n",
            "A value is trying to be set on a copy of a slice from a DataFrame\n",
            "\n",
            "See the caveats in the documentation: https://pandas.pydata.org/pandas-docs/stable/user_guide/indexing.html#returning-a-view-versus-a-copy\n",
            "  \n",
            "/usr/local/lib/python3.7/dist-packages/ipykernel_launcher.py:14: SettingWithCopyWarning: \n",
            "A value is trying to be set on a copy of a slice from a DataFrame\n",
            "\n",
            "See the caveats in the documentation: https://pandas.pydata.org/pandas-docs/stable/user_guide/indexing.html#returning-a-view-versus-a-copy\n",
            "  \n"
          ],
          "name": "stderr"
        }
      ]
    },
    {
      "cell_type": "code",
      "metadata": {
        "colab": {
          "base_uri": "https://localhost:8080/"
        },
        "id": "fZsC3uXrPOIU",
        "outputId": "e30b20c9-fc64-4e24-9dfa-1bbde32595a0"
      },
      "source": [
        "data['default'].value_counts()"
      ],
      "execution_count": null,
      "outputs": [
        {
          "output_type": "execute_result",
          "data": {
            "text/plain": [
              "0    517\n",
              "1    183\n",
              "Name: default, dtype: int64"
            ]
          },
          "metadata": {
            "tags": []
          },
          "execution_count": 177
        }
      ]
    },
    {
      "cell_type": "markdown",
      "metadata": {
        "id": "wl4DlqQzcHDY"
      },
      "source": [
        "**Label Encoding for \"educ\" variable**"
      ]
    },
    {
      "cell_type": "code",
      "metadata": {
        "colab": {
          "base_uri": "https://localhost:8080/",
          "height": 406
        },
        "id": "vCJa9D0QXcIk",
        "outputId": "d43b8bc8-4b9c-43b2-b6ef-57af42e84923"
      },
      "source": [
        "from sklearn import preprocessing\n",
        "label_encoder = preprocessing.LabelEncoder()\n",
        "data['educ']= label_encoder.fit_transform(data['educ'])\n",
        "data"
      ],
      "execution_count": null,
      "outputs": [
        {
          "output_type": "execute_result",
          "data": {
            "text/html": [
              "<div>\n",
              "<style scoped>\n",
              "    .dataframe tbody tr th:only-of-type {\n",
              "        vertical-align: middle;\n",
              "    }\n",
              "\n",
              "    .dataframe tbody tr th {\n",
              "        vertical-align: top;\n",
              "    }\n",
              "\n",
              "    .dataframe thead th {\n",
              "        text-align: right;\n",
              "    }\n",
              "</style>\n",
              "<table border=\"1\" class=\"dataframe\">\n",
              "  <thead>\n",
              "    <tr style=\"text-align: right;\">\n",
              "      <th></th>\n",
              "      <th>age</th>\n",
              "      <th>educ</th>\n",
              "      <th>employ</th>\n",
              "      <th>address</th>\n",
              "      <th>income</th>\n",
              "      <th>debtinc</th>\n",
              "      <th>creddebt</th>\n",
              "      <th>othdebt</th>\n",
              "      <th>default</th>\n",
              "      <th>Gender</th>\n",
              "      <th>Employment</th>\n",
              "    </tr>\n",
              "  </thead>\n",
              "  <tbody>\n",
              "    <tr>\n",
              "      <th>0</th>\n",
              "      <td>41</td>\n",
              "      <td>0</td>\n",
              "      <td>17</td>\n",
              "      <td>12</td>\n",
              "      <td>176</td>\n",
              "      <td>9.3</td>\n",
              "      <td>11.36</td>\n",
              "      <td>5.01</td>\n",
              "      <td>1</td>\n",
              "      <td>1</td>\n",
              "      <td>0.0</td>\n",
              "    </tr>\n",
              "    <tr>\n",
              "      <th>1</th>\n",
              "      <td>27</td>\n",
              "      <td>0</td>\n",
              "      <td>10</td>\n",
              "      <td>6</td>\n",
              "      <td>31</td>\n",
              "      <td>17.3</td>\n",
              "      <td>1.36</td>\n",
              "      <td>4.00</td>\n",
              "      <td>0</td>\n",
              "      <td>1</td>\n",
              "      <td>2.0</td>\n",
              "    </tr>\n",
              "    <tr>\n",
              "      <th>2</th>\n",
              "      <td>40</td>\n",
              "      <td>3</td>\n",
              "      <td>15</td>\n",
              "      <td>14</td>\n",
              "      <td>55</td>\n",
              "      <td>5.5</td>\n",
              "      <td>0.86</td>\n",
              "      <td>2.17</td>\n",
              "      <td>0</td>\n",
              "      <td>0</td>\n",
              "      <td>1.0</td>\n",
              "    </tr>\n",
              "    <tr>\n",
              "      <th>3</th>\n",
              "      <td>41</td>\n",
              "      <td>0</td>\n",
              "      <td>15</td>\n",
              "      <td>14</td>\n",
              "      <td>120</td>\n",
              "      <td>2.9</td>\n",
              "      <td>2.66</td>\n",
              "      <td>0.82</td>\n",
              "      <td>0</td>\n",
              "      <td>0</td>\n",
              "      <td>1.0</td>\n",
              "    </tr>\n",
              "    <tr>\n",
              "      <th>4</th>\n",
              "      <td>24</td>\n",
              "      <td>2</td>\n",
              "      <td>2</td>\n",
              "      <td>0</td>\n",
              "      <td>28</td>\n",
              "      <td>17.3</td>\n",
              "      <td>1.79</td>\n",
              "      <td>3.06</td>\n",
              "      <td>1</td>\n",
              "      <td>1</td>\n",
              "      <td>2.0</td>\n",
              "    </tr>\n",
              "    <tr>\n",
              "      <th>...</th>\n",
              "      <td>...</td>\n",
              "      <td>...</td>\n",
              "      <td>...</td>\n",
              "      <td>...</td>\n",
              "      <td>...</td>\n",
              "      <td>...</td>\n",
              "      <td>...</td>\n",
              "      <td>...</td>\n",
              "      <td>...</td>\n",
              "      <td>...</td>\n",
              "      <td>...</td>\n",
              "    </tr>\n",
              "    <tr>\n",
              "      <th>845</th>\n",
              "      <td>34</td>\n",
              "      <td>3</td>\n",
              "      <td>12</td>\n",
              "      <td>15</td>\n",
              "      <td>32</td>\n",
              "      <td>2.7</td>\n",
              "      <td>0.24</td>\n",
              "      <td>0.62</td>\n",
              "      <td>NaN</td>\n",
              "      <td>NaN</td>\n",
              "      <td>NaN</td>\n",
              "    </tr>\n",
              "    <tr>\n",
              "      <th>846</th>\n",
              "      <td>32</td>\n",
              "      <td>0</td>\n",
              "      <td>12</td>\n",
              "      <td>11</td>\n",
              "      <td>116</td>\n",
              "      <td>5.7</td>\n",
              "      <td>4.03</td>\n",
              "      <td>2.59</td>\n",
              "      <td>NaN</td>\n",
              "      <td>NaN</td>\n",
              "      <td>NaN</td>\n",
              "    </tr>\n",
              "    <tr>\n",
              "      <th>847</th>\n",
              "      <td>48</td>\n",
              "      <td>0</td>\n",
              "      <td>13</td>\n",
              "      <td>11</td>\n",
              "      <td>38</td>\n",
              "      <td>10.8</td>\n",
              "      <td>0.72</td>\n",
              "      <td>3.38</td>\n",
              "      <td>NaN</td>\n",
              "      <td>NaN</td>\n",
              "      <td>NaN</td>\n",
              "    </tr>\n",
              "    <tr>\n",
              "      <th>848</th>\n",
              "      <td>35</td>\n",
              "      <td>1</td>\n",
              "      <td>1</td>\n",
              "      <td>11</td>\n",
              "      <td>24</td>\n",
              "      <td>7.8</td>\n",
              "      <td>0.42</td>\n",
              "      <td>1.45</td>\n",
              "      <td>NaN</td>\n",
              "      <td>NaN</td>\n",
              "      <td>NaN</td>\n",
              "    </tr>\n",
              "    <tr>\n",
              "      <th>849</th>\n",
              "      <td>37</td>\n",
              "      <td>0</td>\n",
              "      <td>20</td>\n",
              "      <td>13</td>\n",
              "      <td>41</td>\n",
              "      <td>12.9</td>\n",
              "      <td>0.90</td>\n",
              "      <td>4.39</td>\n",
              "      <td>NaN</td>\n",
              "      <td>NaN</td>\n",
              "      <td>NaN</td>\n",
              "    </tr>\n",
              "  </tbody>\n",
              "</table>\n",
              "<p>850 rows × 11 columns</p>\n",
              "</div>"
            ],
            "text/plain": [
              "    age  educ  employ  address  ...  othdebt  default  Gender  Employment\n",
              "0    41     0      17       12  ...     5.01        1       1         0.0\n",
              "1    27     0      10        6  ...     4.00        0       1         2.0\n",
              "2    40     3      15       14  ...     2.17        0       0         1.0\n",
              "3    41     0      15       14  ...     0.82        0       0         1.0\n",
              "4    24     2       2        0  ...     3.06        1       1         2.0\n",
              "..   ..   ...     ...      ...  ...      ...      ...     ...         ...\n",
              "845  34     3      12       15  ...     0.62      NaN     NaN         NaN\n",
              "846  32     0      12       11  ...     2.59      NaN     NaN         NaN\n",
              "847  48     0      13       11  ...     3.38      NaN     NaN         NaN\n",
              "848  35     1       1       11  ...     1.45      NaN     NaN         NaN\n",
              "849  37     0      20       13  ...     4.39      NaN     NaN         NaN\n",
              "\n",
              "[850 rows x 11 columns]"
            ]
          },
          "metadata": {
            "tags": []
          },
          "execution_count": 178
        }
      ]
    },
    {
      "cell_type": "markdown",
      "metadata": {
        "id": "_ekWNSLugTw5"
      },
      "source": [
        "Missing imputation in categorical variable"
      ]
    },
    {
      "cell_type": "code",
      "metadata": {
        "id": "dDHu9_wj9lYP"
      },
      "source": [
        ""
      ],
      "execution_count": null,
      "outputs": []
    },
    {
      "cell_type": "code",
      "metadata": {
        "id": "ivnzUfaJhNUb"
      },
      "source": [
        ""
      ],
      "execution_count": null,
      "outputs": []
    },
    {
      "cell_type": "code",
      "metadata": {
        "colab": {
          "base_uri": "https://localhost:8080/"
        },
        "id": "EmgXwOc_MUFt",
        "outputId": "912a2901-6171-4d78-e800-ba0738e794a4"
      },
      "source": [
        "# Missing value imputaion in Gender variable using KNN\n",
        "from fancyimpute import KNN  \n",
        "X= KNN(k=3).fit_transform(data[['age','educ','employ','address','income','debtinc','creddebt','othdebt','Gender']])\n",
        "X=pd.DataFrame(X)\n",
        "X.columns=['age','educ','employ','address','income','debtinc','creddebt','othdebt','Gender']\n",
        "for i in range(850):\n",
        "  if X['Gender'][i]<=0.5:\n",
        "    X['Gender'][i]=0\n",
        "  else:\n",
        "    X['Gender'][i]=1\n",
        "X['Gender'].value_counts()"
      ],
      "execution_count": null,
      "outputs": [
        {
          "output_type": "stream",
          "text": [
            "Imputing row 1/850 with 0 missing, elapsed time: 0.128\n",
            "Imputing row 101/850 with 0 missing, elapsed time: 0.129\n",
            "Imputing row 201/850 with 0 missing, elapsed time: 0.130\n",
            "Imputing row 301/850 with 0 missing, elapsed time: 0.130\n",
            "Imputing row 401/850 with 0 missing, elapsed time: 0.131\n",
            "Imputing row 501/850 with 0 missing, elapsed time: 0.131\n",
            "Imputing row 601/850 with 0 missing, elapsed time: 0.132\n",
            "Imputing row 701/850 with 1 missing, elapsed time: 0.132\n",
            "Imputing row 801/850 with 1 missing, elapsed time: 0.136\n"
          ],
          "name": "stdout"
        },
        {
          "output_type": "execute_result",
          "data": {
            "text/plain": [
              "0.0    512\n",
              "1.0    338\n",
              "Name: Gender, dtype: int64"
            ]
          },
          "metadata": {
            "tags": []
          },
          "execution_count": 179
        }
      ]
    },
    {
      "cell_type": "code",
      "metadata": {
        "colab": {
          "base_uri": "https://localhost:8080/",
          "height": 406
        },
        "id": "bAZa2_6CWLjH",
        "outputId": "7ef84bdc-cb51-45e9-d368-5b9e9a740e6a"
      },
      "source": [
        "new=pd.concat([X,data['Employment'],data['default']],axis=1)\n",
        "new"
      ],
      "execution_count": null,
      "outputs": [
        {
          "output_type": "execute_result",
          "data": {
            "text/html": [
              "<div>\n",
              "<style scoped>\n",
              "    .dataframe tbody tr th:only-of-type {\n",
              "        vertical-align: middle;\n",
              "    }\n",
              "\n",
              "    .dataframe tbody tr th {\n",
              "        vertical-align: top;\n",
              "    }\n",
              "\n",
              "    .dataframe thead th {\n",
              "        text-align: right;\n",
              "    }\n",
              "</style>\n",
              "<table border=\"1\" class=\"dataframe\">\n",
              "  <thead>\n",
              "    <tr style=\"text-align: right;\">\n",
              "      <th></th>\n",
              "      <th>age</th>\n",
              "      <th>educ</th>\n",
              "      <th>employ</th>\n",
              "      <th>address</th>\n",
              "      <th>income</th>\n",
              "      <th>debtinc</th>\n",
              "      <th>creddebt</th>\n",
              "      <th>othdebt</th>\n",
              "      <th>Gender</th>\n",
              "      <th>Employment</th>\n",
              "      <th>default</th>\n",
              "    </tr>\n",
              "  </thead>\n",
              "  <tbody>\n",
              "    <tr>\n",
              "      <th>0</th>\n",
              "      <td>41.0</td>\n",
              "      <td>0.0</td>\n",
              "      <td>17.0</td>\n",
              "      <td>12.0</td>\n",
              "      <td>176.0</td>\n",
              "      <td>9.3</td>\n",
              "      <td>11.36</td>\n",
              "      <td>5.01</td>\n",
              "      <td>1.0</td>\n",
              "      <td>0.0</td>\n",
              "      <td>1</td>\n",
              "    </tr>\n",
              "    <tr>\n",
              "      <th>1</th>\n",
              "      <td>27.0</td>\n",
              "      <td>0.0</td>\n",
              "      <td>10.0</td>\n",
              "      <td>6.0</td>\n",
              "      <td>31.0</td>\n",
              "      <td>17.3</td>\n",
              "      <td>1.36</td>\n",
              "      <td>4.00</td>\n",
              "      <td>1.0</td>\n",
              "      <td>2.0</td>\n",
              "      <td>0</td>\n",
              "    </tr>\n",
              "    <tr>\n",
              "      <th>2</th>\n",
              "      <td>40.0</td>\n",
              "      <td>3.0</td>\n",
              "      <td>15.0</td>\n",
              "      <td>14.0</td>\n",
              "      <td>55.0</td>\n",
              "      <td>5.5</td>\n",
              "      <td>0.86</td>\n",
              "      <td>2.17</td>\n",
              "      <td>0.0</td>\n",
              "      <td>1.0</td>\n",
              "      <td>0</td>\n",
              "    </tr>\n",
              "    <tr>\n",
              "      <th>3</th>\n",
              "      <td>41.0</td>\n",
              "      <td>0.0</td>\n",
              "      <td>15.0</td>\n",
              "      <td>14.0</td>\n",
              "      <td>120.0</td>\n",
              "      <td>2.9</td>\n",
              "      <td>2.66</td>\n",
              "      <td>0.82</td>\n",
              "      <td>0.0</td>\n",
              "      <td>1.0</td>\n",
              "      <td>0</td>\n",
              "    </tr>\n",
              "    <tr>\n",
              "      <th>4</th>\n",
              "      <td>24.0</td>\n",
              "      <td>2.0</td>\n",
              "      <td>2.0</td>\n",
              "      <td>0.0</td>\n",
              "      <td>28.0</td>\n",
              "      <td>17.3</td>\n",
              "      <td>1.79</td>\n",
              "      <td>3.06</td>\n",
              "      <td>1.0</td>\n",
              "      <td>2.0</td>\n",
              "      <td>1</td>\n",
              "    </tr>\n",
              "    <tr>\n",
              "      <th>...</th>\n",
              "      <td>...</td>\n",
              "      <td>...</td>\n",
              "      <td>...</td>\n",
              "      <td>...</td>\n",
              "      <td>...</td>\n",
              "      <td>...</td>\n",
              "      <td>...</td>\n",
              "      <td>...</td>\n",
              "      <td>...</td>\n",
              "      <td>...</td>\n",
              "      <td>...</td>\n",
              "    </tr>\n",
              "    <tr>\n",
              "      <th>845</th>\n",
              "      <td>34.0</td>\n",
              "      <td>3.0</td>\n",
              "      <td>12.0</td>\n",
              "      <td>15.0</td>\n",
              "      <td>32.0</td>\n",
              "      <td>2.7</td>\n",
              "      <td>0.24</td>\n",
              "      <td>0.62</td>\n",
              "      <td>0.0</td>\n",
              "      <td>NaN</td>\n",
              "      <td>NaN</td>\n",
              "    </tr>\n",
              "    <tr>\n",
              "      <th>846</th>\n",
              "      <td>32.0</td>\n",
              "      <td>0.0</td>\n",
              "      <td>12.0</td>\n",
              "      <td>11.0</td>\n",
              "      <td>116.0</td>\n",
              "      <td>5.7</td>\n",
              "      <td>4.03</td>\n",
              "      <td>2.59</td>\n",
              "      <td>0.0</td>\n",
              "      <td>NaN</td>\n",
              "      <td>NaN</td>\n",
              "    </tr>\n",
              "    <tr>\n",
              "      <th>847</th>\n",
              "      <td>48.0</td>\n",
              "      <td>0.0</td>\n",
              "      <td>13.0</td>\n",
              "      <td>11.0</td>\n",
              "      <td>38.0</td>\n",
              "      <td>10.8</td>\n",
              "      <td>0.72</td>\n",
              "      <td>3.38</td>\n",
              "      <td>1.0</td>\n",
              "      <td>NaN</td>\n",
              "      <td>NaN</td>\n",
              "    </tr>\n",
              "    <tr>\n",
              "      <th>848</th>\n",
              "      <td>35.0</td>\n",
              "      <td>1.0</td>\n",
              "      <td>1.0</td>\n",
              "      <td>11.0</td>\n",
              "      <td>24.0</td>\n",
              "      <td>7.8</td>\n",
              "      <td>0.42</td>\n",
              "      <td>1.45</td>\n",
              "      <td>0.0</td>\n",
              "      <td>NaN</td>\n",
              "      <td>NaN</td>\n",
              "    </tr>\n",
              "    <tr>\n",
              "      <th>849</th>\n",
              "      <td>37.0</td>\n",
              "      <td>0.0</td>\n",
              "      <td>20.0</td>\n",
              "      <td>13.0</td>\n",
              "      <td>41.0</td>\n",
              "      <td>12.9</td>\n",
              "      <td>0.90</td>\n",
              "      <td>4.39</td>\n",
              "      <td>1.0</td>\n",
              "      <td>NaN</td>\n",
              "      <td>NaN</td>\n",
              "    </tr>\n",
              "  </tbody>\n",
              "</table>\n",
              "<p>850 rows × 11 columns</p>\n",
              "</div>"
            ],
            "text/plain": [
              "      age  educ  employ  address  ...  othdebt  Gender  Employment  default\n",
              "0    41.0   0.0    17.0     12.0  ...     5.01     1.0         0.0        1\n",
              "1    27.0   0.0    10.0      6.0  ...     4.00     1.0         2.0        0\n",
              "2    40.0   3.0    15.0     14.0  ...     2.17     0.0         1.0        0\n",
              "3    41.0   0.0    15.0     14.0  ...     0.82     0.0         1.0        0\n",
              "4    24.0   2.0     2.0      0.0  ...     3.06     1.0         2.0        1\n",
              "..    ...   ...     ...      ...  ...      ...     ...         ...      ...\n",
              "845  34.0   3.0    12.0     15.0  ...     0.62     0.0         NaN      NaN\n",
              "846  32.0   0.0    12.0     11.0  ...     2.59     0.0         NaN      NaN\n",
              "847  48.0   0.0    13.0     11.0  ...     3.38     1.0         NaN      NaN\n",
              "848  35.0   1.0     1.0     11.0  ...     1.45     0.0         NaN      NaN\n",
              "849  37.0   0.0    20.0     13.0  ...     4.39     1.0         NaN      NaN\n",
              "\n",
              "[850 rows x 11 columns]"
            ]
          },
          "metadata": {
            "tags": []
          },
          "execution_count": 180
        }
      ]
    },
    {
      "cell_type": "markdown",
      "metadata": {
        "id": "cS0W8KLaeee5"
      },
      "source": [
        "Missing value imputation of 'Employment' by estimating using Logistic Regression"
      ]
    },
    {
      "cell_type": "code",
      "metadata": {
        "colab": {
          "base_uri": "https://localhost:8080/"
        },
        "id": "Z8GGd1Q-6Mr6",
        "outputId": "ebad96e9-61a2-4bd0-e864-860b4cd16102"
      },
      "source": [
        "new['Employment'].value_counts()"
      ],
      "execution_count": null,
      "outputs": [
        {
          "output_type": "execute_result",
          "data": {
            "text/plain": [
              "1.0    334\n",
              "2.0    195\n",
              "0.0    171\n",
              "Name: Employment, dtype: int64"
            ]
          },
          "metadata": {
            "tags": []
          },
          "execution_count": 181
        }
      ]
    },
    {
      "cell_type": "code",
      "metadata": {
        "colab": {
          "base_uri": "https://localhost:8080/"
        },
        "id": "14WCF8OgpXiT",
        "outputId": "41a76764-4f1f-4666-bcc0-ddcb8948ee9a"
      },
      "source": [
        "x_train1=new[['age','educ','employ','address','income','debtinc','creddebt','othdebt','Gender']]\n",
        "x_train=x_train1[:700]\n",
        "y_train1=new[['Employment']]\n",
        "y_train=y_train1[:700]\n",
        "\n",
        "# fitting Logistic Regression\n",
        "from sklearn.linear_model import LogisticRegression\n",
        "lr=LogisticRegression()\n",
        "lr.fit(x_train,y_train)"
      ],
      "execution_count": null,
      "outputs": [
        {
          "output_type": "stream",
          "text": [
            "/usr/local/lib/python3.7/dist-packages/sklearn/utils/validation.py:760: DataConversionWarning: A column-vector y was passed when a 1d array was expected. Please change the shape of y to (n_samples, ), for example using ravel().\n",
            "  y = column_or_1d(y, warn=True)\n",
            "/usr/local/lib/python3.7/dist-packages/sklearn/linear_model/_logistic.py:940: ConvergenceWarning: lbfgs failed to converge (status=1):\n",
            "STOP: TOTAL NO. of ITERATIONS REACHED LIMIT.\n",
            "\n",
            "Increase the number of iterations (max_iter) or scale the data as shown in:\n",
            "    https://scikit-learn.org/stable/modules/preprocessing.html\n",
            "Please also refer to the documentation for alternative solver options:\n",
            "    https://scikit-learn.org/stable/modules/linear_model.html#logistic-regression\n",
            "  extra_warning_msg=_LOGISTIC_SOLVER_CONVERGENCE_MSG)\n"
          ],
          "name": "stderr"
        },
        {
          "output_type": "execute_result",
          "data": {
            "text/plain": [
              "LogisticRegression(C=1.0, class_weight=None, dual=False, fit_intercept=True,\n",
              "                   intercept_scaling=1, l1_ratio=None, max_iter=100,\n",
              "                   multi_class='auto', n_jobs=None, penalty='l2',\n",
              "                   random_state=None, solver='lbfgs', tol=0.0001, verbose=0,\n",
              "                   warm_start=False)"
            ]
          },
          "metadata": {
            "tags": []
          },
          "execution_count": 182
        }
      ]
    },
    {
      "cell_type": "code",
      "metadata": {
        "colab": {
          "base_uri": "https://localhost:8080/"
        },
        "id": "nez5fkWG5ZUD",
        "outputId": "a9644180-b09e-45ce-e55b-3b4dc9df96d2"
      },
      "source": [
        "x_pred=x_train1[700:]\n",
        "pred=lr.predict(x_pred) \n",
        "pred=pd.DataFrame(pred)\n",
        "pred.value_counts()\n",
        "# unable to model the Employment Variable using other independent variables.\n",
        "# We are not imputing the missing values in the Employment variable as it cant be modelled using other independent variables."
      ],
      "execution_count": null,
      "outputs": [
        {
          "output_type": "execute_result",
          "data": {
            "text/plain": [
              "1.0    129\n",
              "2.0     20\n",
              "0.0      1\n",
              "dtype: int64"
            ]
          },
          "metadata": {
            "tags": []
          },
          "execution_count": 183
        }
      ]
    },
    {
      "cell_type": "markdown",
      "metadata": {
        "id": "DCR0vf6ofLRe"
      },
      "source": [
        "Detecting outliers by Visualisation"
      ]
    },
    {
      "cell_type": "code",
      "metadata": {
        "id": "U2v4vbkcg6Om"
      },
      "source": [
        "import copy\n",
        "Debtinc=copy.copy(new['debtinc'])\n",
        "Othdebt=copy.copy(new['othdebt'])\n",
        "Creddebt=copy.copy(new['creddebt'])"
      ],
      "execution_count": null,
      "outputs": []
    },
    {
      "cell_type": "code",
      "metadata": {
        "colab": {
          "base_uri": "https://localhost:8080/",
          "height": 282
        },
        "id": "hpEh-1zZyOX-",
        "outputId": "fcf9a572-da44-482f-aeed-ca3da3af927a"
      },
      "source": [
        "a=new[['debtinc','othdebt','creddebt']]\n",
        "sns.boxplot(data=a, orient=\"h\", palette=\"Set2\")"
      ],
      "execution_count": null,
      "outputs": [
        {
          "output_type": "execute_result",
          "data": {
            "text/plain": [
              "<matplotlib.axes._subplots.AxesSubplot at 0x7fdbdd02b7d0>"
            ]
          },
          "metadata": {
            "tags": []
          },
          "execution_count": 185
        },
        {
          "output_type": "display_data",
          "data": {
            "image/png": "[encoded data removed]",
            "text/plain": [
              "<Figure size 432x288 with 1 Axes>"
            ]
          },
          "metadata": {
            "tags": [],
            "needs_background": "light"
          }
        }
      ]
    },
    {
      "cell_type": "code",
      "metadata": {
        "colab": {
          "base_uri": "https://localhost:8080/",
          "height": 282
        },
        "id": "Al_nhNuG2LBa",
        "outputId": "cfc0a66a-d130-4183-db62-0fc2f87165c9"
      },
      "source": [
        "Income=new[['income']]\n",
        "sns.boxplot(data=Income, orient=\"h\", palette=\"Set2\")"
      ],
      "execution_count": null,
      "outputs": [
        {
          "output_type": "execute_result",
          "data": {
            "text/plain": [
              "<matplotlib.axes._subplots.AxesSubplot at 0x7fdbdc526610>"
            ]
          },
          "metadata": {
            "tags": []
          },
          "execution_count": 186
        },
        {
          "output_type": "display_data",
          "data": {
            "image/png": "[encoded data removed]",
            "text/plain": [
              "<Figure size 432x288 with 1 Axes>"
            ]
          },
          "metadata": {
            "tags": [],
            "needs_background": "light"
          }
        }
      ]
    },
    {
      "cell_type": "code",
      "metadata": {
        "id": "TybfGO6nyReE"
      },
      "source": [
        ""
      ],
      "execution_count": null,
      "outputs": []
    },
    {
      "cell_type": "code",
      "metadata": {
        "id": "eVHzoOtqzWR3"
      },
      "source": [
        "\n"
      ],
      "execution_count": null,
      "outputs": []
    },
    {
      "cell_type": "code",
      "metadata": {
        "colab": {
          "base_uri": "https://localhost:8080/"
        },
        "id": "uZPA7E9dBKAS",
        "outputId": "360d8e9b-df3e-449e-d47e-61032775f52f"
      },
      "source": [
        "new['income'].describe()"
      ],
      "execution_count": null,
      "outputs": [
        {
          "output_type": "execute_result",
          "data": {
            "text/plain": [
              "count    850.000000\n",
              "mean      46.675294\n",
              "std       38.543054\n",
              "min       13.000000\n",
              "25%       24.000000\n",
              "50%       35.000000\n",
              "75%       55.750000\n",
              "max      446.000000\n",
              "Name: income, dtype: float64"
            ]
          },
          "metadata": {
            "tags": []
          },
          "execution_count": 189
        }
      ]
    },
    {
      "cell_type": "markdown",
      "metadata": {
        "id": "uVFZykou4zAT"
      },
      "source": [
        "Correcting Outliers- Quantile-based Flooring and Capping"
      ]
    },
    {
      "cell_type": "code",
      "metadata": {
        "colab": {
          "base_uri": "https://localhost:8080/"
        },
        "id": "3Adp3Ywv1tj4",
        "outputId": "6c274247-7def-4ccf-9dde-29f29c48b347"
      },
      "source": [
        "print(new['income'].skew())\n",
        "print(new['income'].quantile(0.10))\n",
        "print(new['income'].quantile(0.90))\n",
        "new[\"income\"] = np.where(new[\"income\"] <19.0, 19.0,new['income'])\n",
        "new[\"income\"] = np.where(new[\"income\"] >84.0, 84.0,new['income'])\n",
        "print(new['income'].skew())"
      ],
      "execution_count": null,
      "outputs": [
        {
          "output_type": "stream",
          "text": [
            "3.7007612669003676\n",
            "19.0\n",
            "84.0\n",
            "0.8107550743927371\n"
          ],
          "name": "stdout"
        }
      ]
    },
    {
      "cell_type": "code",
      "metadata": {
        "colab": {
          "base_uri": "https://localhost:8080/"
        },
        "id": "QajynEcS1t2N",
        "outputId": "f887e699-0d18-41f0-e48c-aeb5d720b444"
      },
      "source": [
        "print(new['creddebt'].skew())\n",
        "print(new['creddebt'].quantile(0.10))\n",
        "print(new['creddebt'].quantile(0.90))\n",
        "print(new['othdebt'].skew())\n",
        "print(new['othdebt'].quantile(0.10))\n",
        "print(new['othdebt'].quantile(0.90))\n",
        "print(new['debtinc'].skew())\n",
        "print(new['debtinc'].quantile(0.10))\n",
        "print(new['debtinc'].quantile(0.90))"
      ],
      "execution_count": null,
      "outputs": [
        {
          "output_type": "stream",
          "text": [
            "3.7020038826496884\n",
            "0.17900000000000005\n",
            "3.7\n",
            "3.2058535199745632\n",
            "0.55\n",
            "7.115000000000001\n",
            "1.124998935647401\n",
            "2.9\n",
            "19.2\n"
          ],
          "name": "stdout"
        }
      ]
    },
    {
      "cell_type": "code",
      "metadata": {
        "colab": {
          "base_uri": "https://localhost:8080/"
        },
        "id": "PRLY3aWk1t5L",
        "outputId": "2900904b-0201-4571-a11d-6bf19f01e7fb"
      },
      "source": [
        "new[\"creddebt\"] = np.where(new[\"creddebt\"] <0.1790, 0.1790,new['creddebt'])\n",
        "new[\"creddebt\"] = np.where(new[\"creddebt\"] >3.7, 3.7,new['creddebt'])\n",
        "print(new['creddebt'].skew())\n",
        "\n",
        "new[\"othdebt\"] = np.where(new[\"othdebt\"] <0.55, 0.55,new['othdebt'])\n",
        "new[\"othdebt\"] = np.where(new[\"othdebt\"] >7.11, 7.11,new['othdebt'])\n",
        "print(new['othdebt'].skew())\n",
        "\n",
        "new[\"debtinc\"] = np.where(new[\"debtinc\"] <2.9, 2.9,new['debtinc'])\n",
        "new[\"debtinc\"] = np.where(new[\"debtinc\"] >19.2, 19.2,new['debtinc'])\n",
        "print(new['debtinc'].skew())"
      ],
      "execution_count": null,
      "outputs": [
        {
          "output_type": "stream",
          "text": [
            "0.9920198232220673\n",
            "0.9671558679258828\n",
            "0.4432413163532545\n"
          ],
          "name": "stdout"
        }
      ]
    },
    {
      "cell_type": "code",
      "metadata": {
        "colab": {
          "base_uri": "https://localhost:8080/",
          "height": 282
        },
        "id": "UTjpWfed1t79",
        "outputId": "754af0d9-f1c3-4686-da10-b923d89f8873"
      },
      "source": [
        "a=new[['debtinc','othdebt','creddebt']]\n",
        "sns.boxplot(data=a, orient=\"h\", palette=\"Set2\")"
      ],
      "execution_count": null,
      "outputs": [
        {
          "output_type": "execute_result",
          "data": {
            "text/plain": [
              "<matplotlib.axes._subplots.AxesSubplot at 0x7fdbdc3f7a50>"
            ]
          },
          "metadata": {
            "tags": []
          },
          "execution_count": 193
        },
        {
          "output_type": "display_data",
          "data": {
            "image/png": "[encoded data removed]",
            "text/plain": [
              "<Figure size 432x288 with 1 Axes>"
            ]
          },
          "metadata": {
            "tags": [],
            "needs_background": "light"
          }
        }
      ]
    },
    {
      "cell_type": "code",
      "metadata": {
        "colab": {
          "base_uri": "https://localhost:8080/",
          "height": 282
        },
        "id": "7J1S5G3s65HE",
        "outputId": "6d880e91-d935-47b7-85c9-038c073dd8bb"
      },
      "source": [
        "a=new[['income']]\n",
        "sns.boxplot(data=a, orient=\"h\", palette=\"Set2\")"
      ],
      "execution_count": null,
      "outputs": [
        {
          "output_type": "execute_result",
          "data": {
            "text/plain": [
              "<matplotlib.axes._subplots.AxesSubplot at 0x7fdbdc37c810>"
            ]
          },
          "metadata": {
            "tags": []
          },
          "execution_count": 194
        },
        {
          "output_type": "display_data",
          "data": {
            "image/png": "[encoded data removed]",
            "text/plain": [
              "<Figure size 432x288 with 1 Axes>"
            ]
          },
          "metadata": {
            "tags": [],
            "needs_background": "light"
          }
        }
      ]
    },
    {
      "cell_type": "code",
      "metadata": {
        "id": "OlH6AH5U65J3"
      },
      "source": [
        ""
      ],
      "execution_count": null,
      "outputs": []
    },
    {
      "cell_type": "code",
      "metadata": {
        "id": "hgeTmVCu65My"
      },
      "source": [
        ""
      ],
      "execution_count": null,
      "outputs": []
    },
    {
      "cell_type": "markdown",
      "metadata": {
        "id": "5Y2I61ct8TZN"
      },
      "source": [
        "Comparing which classifier is best"
      ]
    },
    {
      "cell_type": "code",
      "metadata": {
        "id": "O-KxJ_2L8Sdi"
      },
      "source": [
        "x_train2=new[['age','educ','employ','address','income','debtinc','creddebt','othdebt','Gender']]\n",
        "x_train=x_train2[:600]\n",
        "y_train2=data[['default']]\n",
        "y_train=y_train2[:600]\n",
        "from sklearn import metrics"
      ],
      "execution_count": null,
      "outputs": []
    },
    {
      "cell_type": "code",
      "metadata": {
        "colab": {
          "base_uri": "https://localhost:8080/"
        },
        "id": "-AEnVIcpFmy6",
        "outputId": "585b6812-1e9a-4ea1-e6a9-77770edd0897"
      },
      "source": [
        "\n",
        "# fitting Logistic Regression\n",
        "from sklearn.linear_model import LogisticRegression\n",
        "from sklearn.metrics import confusion_matrix\n",
        "lr=LogisticRegression(solver='liblinear')\n",
        "lr.fit(x_train,y_train)\n",
        "\n",
        "x_test=x_train2[600:700]\n",
        "pred=lr.predict(x_test)\n",
        "\n",
        "confusion=confusion_matrix(np.array(y_train2[600:700]).ravel(),pred)\n",
        "accuracy=metrics.classification_report(np.array(y_train2[600:700]).ravel(),pred)\n",
        "print(accuracy)"
      ],
      "execution_count": null,
      "outputs": [
        {
          "output_type": "stream",
          "text": [
            "              precision    recall  f1-score   support\n",
            "\n",
            "           0       0.88      0.94      0.91        77\n",
            "           1       0.72      0.57      0.63        23\n",
            "\n",
            "    accuracy                           0.85       100\n",
            "   macro avg       0.80      0.75      0.77       100\n",
            "weighted avg       0.84      0.85      0.84       100\n",
            "\n"
          ],
          "name": "stdout"
        },
        {
          "output_type": "stream",
          "text": [
            "/usr/local/lib/python3.7/dist-packages/sklearn/utils/validation.py:760: DataConversionWarning: A column-vector y was passed when a 1d array was expected. Please change the shape of y to (n_samples, ), for example using ravel().\n",
            "  y = column_or_1d(y, warn=True)\n"
          ],
          "name": "stderr"
        }
      ]
    },
    {
      "cell_type": "code",
      "metadata": {
        "id": "FtnrvOJz9YAg",
        "colab": {
          "base_uri": "https://localhost:8080/"
        },
        "outputId": "edbe244d-c128-4203-df01-271587c9461e"
      },
      "source": [
        "# fitting SVM classifier\n",
        "\n",
        "from sklearn.svm import SVC\n",
        "svclassifier = SVC(kernel='linear')\n",
        "svclassifier.fit(x_train,y_train)\n",
        "\n",
        "\n",
        "x_test=x_train2[600:700]\n",
        "pred1=svclassifier.predict(x_test)\n",
        "accuracy=metrics.classification_report(np.array(y_train2[600:700]).ravel(),pred1)\n",
        "print(accuracy)"
      ],
      "execution_count": null,
      "outputs": [
        {
          "output_type": "stream",
          "text": [
            "              precision    recall  f1-score   support\n",
            "\n",
            "           0       0.87      0.94      0.90        77\n",
            "           1       0.71      0.52      0.60        23\n",
            "\n",
            "    accuracy                           0.84       100\n",
            "   macro avg       0.79      0.73      0.75       100\n",
            "weighted avg       0.83      0.84      0.83       100\n",
            "\n"
          ],
          "name": "stdout"
        },
        {
          "output_type": "stream",
          "text": [
            "/usr/local/lib/python3.7/dist-packages/sklearn/utils/validation.py:760: DataConversionWarning: A column-vector y was passed when a 1d array was expected. Please change the shape of y to (n_samples, ), for example using ravel().\n",
            "  y = column_or_1d(y, warn=True)\n"
          ],
          "name": "stderr"
        }
      ]
    },
    {
      "cell_type": "code",
      "metadata": {
        "colab": {
          "base_uri": "https://localhost:8080/"
        },
        "id": "sszUpwEoVJbL",
        "outputId": "3291804b-6230-4913-d62c-ff36f58d267d"
      },
      "source": [
        "# fitting Naive bayes classifier\n",
        "\n",
        "from sklearn.naive_bayes import GaussianNB\n",
        "model = GaussianNB()\n",
        "model.fit(x_train,y_train)\n",
        "\n",
        "predicted= model.predict(x_test)\n",
        "accuracy=metrics.classification_report(np.array(y_train2[600:700]).ravel(),predicted)\n",
        "print(accuracy)"
      ],
      "execution_count": null,
      "outputs": [
        {
          "output_type": "stream",
          "text": [
            "/usr/local/lib/python3.7/dist-packages/sklearn/naive_bayes.py:206: DataConversionWarning: A column-vector y was passed when a 1d array was expected. Please change the shape of y to (n_samples, ), for example using ravel().\n",
            "  y = column_or_1d(y, warn=True)\n"
          ],
          "name": "stderr"
        },
        {
          "output_type": "stream",
          "text": [
            "              precision    recall  f1-score   support\n",
            "\n",
            "           0       0.84      0.88      0.86        77\n",
            "           1       0.53      0.43      0.48        23\n",
            "\n",
            "    accuracy                           0.78       100\n",
            "   macro avg       0.68      0.66      0.67       100\n",
            "weighted avg       0.77      0.78      0.77       100\n",
            "\n"
          ],
          "name": "stdout"
        }
      ]
    },
    {
      "cell_type": "code",
      "metadata": {
        "id": "zLX-ijnyD5Ny",
        "colab": {
          "base_uri": "https://localhost:8080/",
          "height": 406
        },
        "outputId": "219c79c4-7c2f-4b4b-b03f-86dc7dec7bf7"
      },
      "source": [
        "x_test=x_train2[700:]\n",
        "pred=lr.predict(x_test)\n",
        "pred=pd.DataFrame(pred)\n",
        "pred.columns=['default']\n",
        "c=pd.DataFrame(y_train2[0:700])\n",
        "default=pd.concat([c,pred],axis=0)\n",
        "default\n"
      ],
      "execution_count": null,
      "outputs": [
        {
          "output_type": "execute_result",
          "data": {
            "text/html": [
              "<div>\n",
              "<style scoped>\n",
              "    .dataframe tbody tr th:only-of-type {\n",
              "        vertical-align: middle;\n",
              "    }\n",
              "\n",
              "    .dataframe tbody tr th {\n",
              "        vertical-align: top;\n",
              "    }\n",
              "\n",
              "    .dataframe thead th {\n",
              "        text-align: right;\n",
              "    }\n",
              "</style>\n",
              "<table border=\"1\" class=\"dataframe\">\n",
              "  <thead>\n",
              "    <tr style=\"text-align: right;\">\n",
              "      <th></th>\n",
              "      <th>default</th>\n",
              "    </tr>\n",
              "  </thead>\n",
              "  <tbody>\n",
              "    <tr>\n",
              "      <th>0</th>\n",
              "      <td>1</td>\n",
              "    </tr>\n",
              "    <tr>\n",
              "      <th>1</th>\n",
              "      <td>0</td>\n",
              "    </tr>\n",
              "    <tr>\n",
              "      <th>2</th>\n",
              "      <td>0</td>\n",
              "    </tr>\n",
              "    <tr>\n",
              "      <th>3</th>\n",
              "      <td>0</td>\n",
              "    </tr>\n",
              "    <tr>\n",
              "      <th>4</th>\n",
              "      <td>1</td>\n",
              "    </tr>\n",
              "    <tr>\n",
              "      <th>...</th>\n",
              "      <td>...</td>\n",
              "    </tr>\n",
              "    <tr>\n",
              "      <th>145</th>\n",
              "      <td>0</td>\n",
              "    </tr>\n",
              "    <tr>\n",
              "      <th>146</th>\n",
              "      <td>0</td>\n",
              "    </tr>\n",
              "    <tr>\n",
              "      <th>147</th>\n",
              "      <td>0</td>\n",
              "    </tr>\n",
              "    <tr>\n",
              "      <th>148</th>\n",
              "      <td>0</td>\n",
              "    </tr>\n",
              "    <tr>\n",
              "      <th>149</th>\n",
              "      <td>0</td>\n",
              "    </tr>\n",
              "  </tbody>\n",
              "</table>\n",
              "<p>850 rows × 1 columns</p>\n",
              "</div>"
            ],
            "text/plain": [
              "    default\n",
              "0         1\n",
              "1         0\n",
              "2         0\n",
              "3         0\n",
              "4         1\n",
              "..      ...\n",
              "145       0\n",
              "146       0\n",
              "147       0\n",
              "148       0\n",
              "149       0\n",
              "\n",
              "[850 rows x 1 columns]"
            ]
          },
          "metadata": {
            "tags": []
          },
          "execution_count": 199
        }
      ]
    },
    {
      "cell_type": "code",
      "metadata": {
        "id": "ds_Bwfa-IKgS"
      },
      "source": [
        "default=np.array(default)\n",
        "default=pd.DataFrame(default)"
      ],
      "execution_count": null,
      "outputs": []
    },
    {
      "cell_type": "code",
      "metadata": {
        "id": "wIpg8a2hWXbm"
      },
      "source": [
        "new1=new[['age','educ','employ','address','income','debtinc','creddebt','othdebt','Gender','Employment']]\n",
        "Data=pd.concat([new1,default],axis=1)\n",
        "Data.columns=['age','educ','employ','address','income','debtinc','creddebt','othdebt','Gender','Employment','default']"
      ],
      "execution_count": null,
      "outputs": []
    },
    {
      "cell_type": "code",
      "metadata": {
        "colab": {
          "base_uri": "https://localhost:8080/",
          "height": 406
        },
        "id": "XiAbCpZRXBhW",
        "outputId": "d183fcfe-386b-4784-afd1-baa148bd0182"
      },
      "source": [
        "#Fully Cleaned Data\n",
        "\n",
        "Data"
      ],
      "execution_count": null,
      "outputs": [
        {
          "output_type": "execute_result",
          "data": {
            "text/html": [
              "<div>\n",
              "<style scoped>\n",
              "    .dataframe tbody tr th:only-of-type {\n",
              "        vertical-align: middle;\n",
              "    }\n",
              "\n",
              "    .dataframe tbody tr th {\n",
              "        vertical-align: top;\n",
              "    }\n",
              "\n",
              "    .dataframe thead th {\n",
              "        text-align: right;\n",
              "    }\n",
              "</style>\n",
              "<table border=\"1\" class=\"dataframe\">\n",
              "  <thead>\n",
              "    <tr style=\"text-align: right;\">\n",
              "      <th></th>\n",
              "      <th>age</th>\n",
              "      <th>educ</th>\n",
              "      <th>employ</th>\n",
              "      <th>address</th>\n",
              "      <th>income</th>\n",
              "      <th>debtinc</th>\n",
              "      <th>creddebt</th>\n",
              "      <th>othdebt</th>\n",
              "      <th>Gender</th>\n",
              "      <th>Employment</th>\n",
              "      <th>default</th>\n",
              "    </tr>\n",
              "  </thead>\n",
              "  <tbody>\n",
              "    <tr>\n",
              "      <th>0</th>\n",
              "      <td>41.0</td>\n",
              "      <td>0.0</td>\n",
              "      <td>17.0</td>\n",
              "      <td>12.0</td>\n",
              "      <td>84.0</td>\n",
              "      <td>9.3</td>\n",
              "      <td>3.70</td>\n",
              "      <td>5.01</td>\n",
              "      <td>1.0</td>\n",
              "      <td>0.0</td>\n",
              "      <td>1</td>\n",
              "    </tr>\n",
              "    <tr>\n",
              "      <th>1</th>\n",
              "      <td>27.0</td>\n",
              "      <td>0.0</td>\n",
              "      <td>10.0</td>\n",
              "      <td>6.0</td>\n",
              "      <td>31.0</td>\n",
              "      <td>17.3</td>\n",
              "      <td>1.36</td>\n",
              "      <td>4.00</td>\n",
              "      <td>1.0</td>\n",
              "      <td>2.0</td>\n",
              "      <td>0</td>\n",
              "    </tr>\n",
              "    <tr>\n",
              "      <th>2</th>\n",
              "      <td>40.0</td>\n",
              "      <td>3.0</td>\n",
              "      <td>15.0</td>\n",
              "      <td>14.0</td>\n",
              "      <td>55.0</td>\n",
              "      <td>5.5</td>\n",
              "      <td>0.86</td>\n",
              "      <td>2.17</td>\n",
              "      <td>0.0</td>\n",
              "      <td>1.0</td>\n",
              "      <td>0</td>\n",
              "    </tr>\n",
              "    <tr>\n",
              "      <th>3</th>\n",
              "      <td>41.0</td>\n",
              "      <td>0.0</td>\n",
              "      <td>15.0</td>\n",
              "      <td>14.0</td>\n",
              "      <td>84.0</td>\n",
              "      <td>2.9</td>\n",
              "      <td>2.66</td>\n",
              "      <td>0.82</td>\n",
              "      <td>0.0</td>\n",
              "      <td>1.0</td>\n",
              "      <td>0</td>\n",
              "    </tr>\n",
              "    <tr>\n",
              "      <th>4</th>\n",
              "      <td>24.0</td>\n",
              "      <td>2.0</td>\n",
              "      <td>2.0</td>\n",
              "      <td>0.0</td>\n",
              "      <td>28.0</td>\n",
              "      <td>17.3</td>\n",
              "      <td>1.79</td>\n",
              "      <td>3.06</td>\n",
              "      <td>1.0</td>\n",
              "      <td>2.0</td>\n",
              "      <td>1</td>\n",
              "    </tr>\n",
              "    <tr>\n",
              "      <th>...</th>\n",
              "      <td>...</td>\n",
              "      <td>...</td>\n",
              "      <td>...</td>\n",
              "      <td>...</td>\n",
              "      <td>...</td>\n",
              "      <td>...</td>\n",
              "      <td>...</td>\n",
              "      <td>...</td>\n",
              "      <td>...</td>\n",
              "      <td>...</td>\n",
              "      <td>...</td>\n",
              "    </tr>\n",
              "    <tr>\n",
              "      <th>845</th>\n",
              "      <td>34.0</td>\n",
              "      <td>3.0</td>\n",
              "      <td>12.0</td>\n",
              "      <td>15.0</td>\n",
              "      <td>32.0</td>\n",
              "      <td>2.9</td>\n",
              "      <td>0.24</td>\n",
              "      <td>0.62</td>\n",
              "      <td>0.0</td>\n",
              "      <td>NaN</td>\n",
              "      <td>0</td>\n",
              "    </tr>\n",
              "    <tr>\n",
              "      <th>846</th>\n",
              "      <td>32.0</td>\n",
              "      <td>0.0</td>\n",
              "      <td>12.0</td>\n",
              "      <td>11.0</td>\n",
              "      <td>84.0</td>\n",
              "      <td>5.7</td>\n",
              "      <td>3.70</td>\n",
              "      <td>2.59</td>\n",
              "      <td>0.0</td>\n",
              "      <td>NaN</td>\n",
              "      <td>0</td>\n",
              "    </tr>\n",
              "    <tr>\n",
              "      <th>847</th>\n",
              "      <td>48.0</td>\n",
              "      <td>0.0</td>\n",
              "      <td>13.0</td>\n",
              "      <td>11.0</td>\n",
              "      <td>38.0</td>\n",
              "      <td>10.8</td>\n",
              "      <td>0.72</td>\n",
              "      <td>3.38</td>\n",
              "      <td>1.0</td>\n",
              "      <td>NaN</td>\n",
              "      <td>0</td>\n",
              "    </tr>\n",
              "    <tr>\n",
              "      <th>848</th>\n",
              "      <td>35.0</td>\n",
              "      <td>1.0</td>\n",
              "      <td>1.0</td>\n",
              "      <td>11.0</td>\n",
              "      <td>24.0</td>\n",
              "      <td>7.8</td>\n",
              "      <td>0.42</td>\n",
              "      <td>1.45</td>\n",
              "      <td>0.0</td>\n",
              "      <td>NaN</td>\n",
              "      <td>0</td>\n",
              "    </tr>\n",
              "    <tr>\n",
              "      <th>849</th>\n",
              "      <td>37.0</td>\n",
              "      <td>0.0</td>\n",
              "      <td>20.0</td>\n",
              "      <td>13.0</td>\n",
              "      <td>41.0</td>\n",
              "      <td>12.9</td>\n",
              "      <td>0.90</td>\n",
              "      <td>4.39</td>\n",
              "      <td>1.0</td>\n",
              "      <td>NaN</td>\n",
              "      <td>0</td>\n",
              "    </tr>\n",
              "  </tbody>\n",
              "</table>\n",
              "<p>850 rows × 11 columns</p>\n",
              "</div>"
            ],
            "text/plain": [
              "      age  educ  employ  address  ...  othdebt  Gender  Employment  default\n",
              "0    41.0   0.0    17.0     12.0  ...     5.01     1.0         0.0        1\n",
              "1    27.0   0.0    10.0      6.0  ...     4.00     1.0         2.0        0\n",
              "2    40.0   3.0    15.0     14.0  ...     2.17     0.0         1.0        0\n",
              "3    41.0   0.0    15.0     14.0  ...     0.82     0.0         1.0        0\n",
              "4    24.0   2.0     2.0      0.0  ...     3.06     1.0         2.0        1\n",
              "..    ...   ...     ...      ...  ...      ...     ...         ...      ...\n",
              "845  34.0   3.0    12.0     15.0  ...     0.62     0.0         NaN        0\n",
              "846  32.0   0.0    12.0     11.0  ...     2.59     0.0         NaN        0\n",
              "847  48.0   0.0    13.0     11.0  ...     3.38     1.0         NaN        0\n",
              "848  35.0   1.0     1.0     11.0  ...     1.45     0.0         NaN        0\n",
              "849  37.0   0.0    20.0     13.0  ...     4.39     1.0         NaN        0\n",
              "\n",
              "[850 rows x 11 columns]"
            ]
          },
          "metadata": {
            "tags": []
          },
          "execution_count": 203
        }
      ]
    },
    {
      "cell_type": "code",
      "metadata": {
        "colab": {
          "base_uri": "https://localhost:8080/",
          "height": 287
        },
        "id": "vTvqBaBeXH4M",
        "outputId": "01174af4-a105-4b2c-9259-25048e1b61e9"
      },
      "source": [
        "Data.describe()"
      ],
      "execution_count": null,
      "outputs": [
        {
          "output_type": "execute_result",
          "data": {
            "text/html": [
              "<div>\n",
              "<style scoped>\n",
              "    .dataframe tbody tr th:only-of-type {\n",
              "        vertical-align: middle;\n",
              "    }\n",
              "\n",
              "    .dataframe tbody tr th {\n",
              "        vertical-align: top;\n",
              "    }\n",
              "\n",
              "    .dataframe thead th {\n",
              "        text-align: right;\n",
              "    }\n",
              "</style>\n",
              "<table border=\"1\" class=\"dataframe\">\n",
              "  <thead>\n",
              "    <tr style=\"text-align: right;\">\n",
              "      <th></th>\n",
              "      <th>age</th>\n",
              "      <th>educ</th>\n",
              "      <th>employ</th>\n",
              "      <th>address</th>\n",
              "      <th>income</th>\n",
              "      <th>debtinc</th>\n",
              "      <th>creddebt</th>\n",
              "      <th>othdebt</th>\n",
              "      <th>Gender</th>\n",
              "      <th>Employment</th>\n",
              "    </tr>\n",
              "  </thead>\n",
              "  <tbody>\n",
              "    <tr>\n",
              "      <th>count</th>\n",
              "      <td>850.000000</td>\n",
              "      <td>850.000000</td>\n",
              "      <td>850.000000</td>\n",
              "      <td>850.000000</td>\n",
              "      <td>850.000000</td>\n",
              "      <td>850.000000</td>\n",
              "      <td>850.000000</td>\n",
              "      <td>850.000000</td>\n",
              "      <td>850.000000</td>\n",
              "      <td>700.000000</td>\n",
              "    </tr>\n",
              "    <tr>\n",
              "      <th>mean</th>\n",
              "      <td>35.001176</td>\n",
              "      <td>1.596471</td>\n",
              "      <td>8.565882</td>\n",
              "      <td>8.371765</td>\n",
              "      <td>41.840000</td>\n",
              "      <td>9.737294</td>\n",
              "      <td>1.298065</td>\n",
              "      <td>2.702141</td>\n",
              "      <td>0.397647</td>\n",
              "      <td>1.034286</td>\n",
              "    </tr>\n",
              "    <tr>\n",
              "      <th>std</th>\n",
              "      <td>8.070873</td>\n",
              "      <td>1.079081</td>\n",
              "      <td>6.777884</td>\n",
              "      <td>6.895016</td>\n",
              "      <td>21.355377</td>\n",
              "      <td>5.332745</td>\n",
              "      <td>1.130080</td>\n",
              "      <td>2.083245</td>\n",
              "      <td>0.489700</td>\n",
              "      <td>0.722792</td>\n",
              "    </tr>\n",
              "    <tr>\n",
              "      <th>min</th>\n",
              "      <td>20.000000</td>\n",
              "      <td>0.000000</td>\n",
              "      <td>0.000000</td>\n",
              "      <td>0.000000</td>\n",
              "      <td>19.000000</td>\n",
              "      <td>2.900000</td>\n",
              "      <td>0.179000</td>\n",
              "      <td>0.550000</td>\n",
              "      <td>0.000000</td>\n",
              "      <td>0.000000</td>\n",
              "    </tr>\n",
              "    <tr>\n",
              "      <th>25%</th>\n",
              "      <td>29.000000</td>\n",
              "      <td>1.000000</td>\n",
              "      <td>3.000000</td>\n",
              "      <td>3.000000</td>\n",
              "      <td>24.000000</td>\n",
              "      <td>5.100000</td>\n",
              "      <td>0.380000</td>\n",
              "      <td>1.050000</td>\n",
              "      <td>0.000000</td>\n",
              "      <td>1.000000</td>\n",
              "    </tr>\n",
              "    <tr>\n",
              "      <th>50%</th>\n",
              "      <td>35.000000</td>\n",
              "      <td>1.000000</td>\n",
              "      <td>7.000000</td>\n",
              "      <td>7.000000</td>\n",
              "      <td>35.000000</td>\n",
              "      <td>8.700000</td>\n",
              "      <td>0.885000</td>\n",
              "      <td>2.005000</td>\n",
              "      <td>0.000000</td>\n",
              "      <td>1.000000</td>\n",
              "    </tr>\n",
              "    <tr>\n",
              "      <th>75%</th>\n",
              "      <td>40.000000</td>\n",
              "      <td>3.000000</td>\n",
              "      <td>13.000000</td>\n",
              "      <td>12.000000</td>\n",
              "      <td>55.750000</td>\n",
              "      <td>13.800000</td>\n",
              "      <td>1.900000</td>\n",
              "      <td>3.905000</td>\n",
              "      <td>1.000000</td>\n",
              "      <td>2.000000</td>\n",
              "    </tr>\n",
              "    <tr>\n",
              "      <th>max</th>\n",
              "      <td>56.000000</td>\n",
              "      <td>3.000000</td>\n",
              "      <td>33.000000</td>\n",
              "      <td>34.000000</td>\n",
              "      <td>84.000000</td>\n",
              "      <td>19.200000</td>\n",
              "      <td>3.700000</td>\n",
              "      <td>7.110000</td>\n",
              "      <td>1.000000</td>\n",
              "      <td>2.000000</td>\n",
              "    </tr>\n",
              "  </tbody>\n",
              "</table>\n",
              "</div>"
            ],
            "text/plain": [
              "              age        educ      employ  ...     othdebt      Gender  Employment\n",
              "count  850.000000  850.000000  850.000000  ...  850.000000  850.000000  700.000000\n",
              "mean    35.001176    1.596471    8.565882  ...    2.702141    0.397647    1.034286\n",
              "std      8.070873    1.079081    6.777884  ...    2.083245    0.489700    0.722792\n",
              "min     20.000000    0.000000    0.000000  ...    0.550000    0.000000    0.000000\n",
              "25%     29.000000    1.000000    3.000000  ...    1.050000    0.000000    1.000000\n",
              "50%     35.000000    1.000000    7.000000  ...    2.005000    0.000000    1.000000\n",
              "75%     40.000000    3.000000   13.000000  ...    3.905000    1.000000    2.000000\n",
              "max     56.000000    3.000000   33.000000  ...    7.110000    1.000000    2.000000\n",
              "\n",
              "[8 rows x 10 columns]"
            ]
          },
          "metadata": {
            "tags": []
          },
          "execution_count": 204
        }
      ]
    },
    {
      "cell_type": "markdown",
      "metadata": {
        "id": "PvQv53vGsmEB"
      },
      "source": [
        "Bi-variate analysis"
      ]
    },
    {
      "cell_type": "code",
      "metadata": {
        "colab": {
          "base_uri": "https://localhost:8080/",
          "height": 743
        },
        "id": "uWFaIUBjYllB",
        "outputId": "8a9d0e3e-224a-4242-d559-6314e9a2ea6a"
      },
      "source": [
        "# Pair_plot\n",
        "financial=Data.loc[:,['educ','income','debtinc','othdebt']]\n",
        "sns.pairplot(financial)"
      ],
      "execution_count": null,
      "outputs": [
        {
          "output_type": "execute_result",
          "data": {
            "text/plain": [
              "<seaborn.axisgrid.PairGrid at 0x7fdbdc27b290>"
            ]
          },
          "metadata": {
            "tags": []
          },
          "execution_count": 205
        },
        {
          "output_type": "display_data",
          "data": {
            "image/png": "[encoded data removed]",
            "text/plain": [
              "<Figure size 720x720 with 20 Axes>"
            ]
          },
          "metadata": {
            "tags": [],
            "needs_background": "light"
          }
        }
      ]
    },
    {
      "cell_type": "markdown",
      "metadata": {
        "id": "5Eoh_5R_ssLV"
      },
      "source": [
        "Plotting pie-charts of different independent variables with respect to response(default) variable."
      ]
    },
    {
      "cell_type": "code",
      "metadata": {
        "colab": {
          "base_uri": "https://localhost:8080/",
          "height": 282
        },
        "id": "pVRJK-3yybva",
        "outputId": "d34d2bce-de77-4537-a79a-cc311428a52e"
      },
      "source": [
        "d1=0\n",
        "d2=0\n",
        "d3=0\n",
        "d4=0\n",
        "age=Data['age']\n",
        "defaulter=Data['default']\n",
        "for i in range(850):\n",
        "  if age[i]>=20 and age[i]<30:\n",
        "    d1=d1+int(defaulter[i])\n",
        "  elif age[i]>=30 and age[i]<40:\n",
        "    d2=d2+int(defaulter[i])\n",
        "  elif age[i]>=40 and age[i]<50:\n",
        "    d3=d3+int(defaulter[i])\n",
        "  elif age[i]>=50 and age[i]<60:\n",
        "    d4=d4+int(defaulter[i])\n",
        "\n",
        "y=np.array([d1,d2,d3,d4])\n",
        "mylabels=['20-30','30-40','40-50','50-60']\n",
        "plt.legend(title=\"Age Groups\")\n",
        "plt.pie(y,labels=mylabels,startangle=90,shadow=True,explode=(0.1,0.1,0.1,0.1),autopct='%1.2f%%')\n",
        "plt.title(\"No. of defaulters in different age group\")\n",
        "plt.show()"
      ],
      "execution_count": null,
      "outputs": [
        {
          "output_type": "stream",
          "text": [
            "No handles with labels found to put in legend.\n"
          ],
          "name": "stderr"
        },
        {
          "output_type": "display_data",
          "data": {
            "image/png": "[encoded data removed]",
            "text/plain": [
              "<Figure size 432x288 with 1 Axes>"
            ]
          },
          "metadata": {
            "tags": []
          }
        }
      ]
    },
    {
      "cell_type": "code",
      "metadata": {
        "id": "ZjezQ5By2X61"
      },
      "source": [
        ""
      ],
      "execution_count": null,
      "outputs": []
    },
    {
      "cell_type": "code",
      "metadata": {
        "colab": {
          "base_uri": "https://localhost:8080/",
          "height": 282
        },
        "id": "nmYU72go4LbX",
        "outputId": "8fe8ab0b-3097-4914-9aca-4fb90535fa12"
      },
      "source": [
        "d1=0\n",
        "d2=0\n",
        "d3=0\n",
        "d4=0\n",
        "educa=Data['educ']\n",
        "defaulter=Data['default']\n",
        "for i in range(850):\n",
        "  if educa[i]==0.0:\n",
        "    d1=d1+int(defaulter[i])\n",
        "  elif educa[i]==1.0:\n",
        "    d2=d2+int(defaulter[i])\n",
        "  elif educa[i]==2.0:\n",
        "    d3=d3+int(defaulter[i])\n",
        "  elif educa[i]==3.0:\n",
        "    d4=d4+int(defaulter[i])\n",
        "    \n",
        "y=np.array([d1,d2,d3,d4])\n",
        "mylabels=['post-graduation','graduation','high-school','illiterate']\n",
        "plt.legend(title=\"Education\")\n",
        "plt.pie(y,labels=mylabels,startangle=90,shadow=True,explode=(0.1,0.1,0.1,0.1),autopct='%1.2f%%')\n",
        "plt.title(\"No. of defaulters with respect to education level\")\n",
        "plt.show()"
      ],
      "execution_count": null,
      "outputs": [
        {
          "output_type": "stream",
          "text": [
            "No handles with labels found to put in legend.\n"
          ],
          "name": "stderr"
        },
        {
          "output_type": "display_data",
          "data": {
            "image/png": "[encoded data removed]",
            "text/plain": [
              "<Figure size 432x288 with 1 Axes>"
            ]
          },
          "metadata": {
            "tags": []
          }
        }
      ]
    },
    {
      "cell_type": "code",
      "metadata": {
        "colab": {
          "base_uri": "https://localhost:8080/",
          "height": 282
        },
        "id": "zITB3l1j5yH0",
        "outputId": "05ce8083-f2d1-4614-a781-f89a40ff4ea0"
      },
      "source": [
        "d1=0\n",
        "d2=0\n",
        "d3=0\n",
        "d4=0\n",
        "educa=Data['educ']\n",
        "defaulter=Data['default']\n",
        "for i in range(850):\n",
        "  if educa[i]==0.0:\n",
        "    d1=d1+1\n",
        "  elif educa[i]==1.0:\n",
        "    d2=d2+1\n",
        "  elif educa[i]==2.0:\n",
        "    d3=d3+1\n",
        "  elif educa[i]==3.0:\n",
        "    d4=d4+1\n",
        "    \n",
        "y=np.array([d1,d2,d3,d4])\n",
        "mylabels=['post-graduation','graduation','high-school','illiterate']\n",
        "plt.legend(title=\"Education\")\n",
        "plt.pie(y,labels=mylabels,startangle=90,shadow=True,explode=(0.1,0.1,0.1,0.1),autopct='%1.2f%%')\n",
        "plt.title(\"No. of people with their educational qualification\")\n",
        "plt.show()\n",
        "\n",
        "#by comparing these 2 pie charts, we can say that people with higher education are less defaulters."
      ],
      "execution_count": null,
      "outputs": [
        {
          "output_type": "stream",
          "text": [
            "No handles with labels found to put in legend.\n"
          ],
          "name": "stderr"
        },
        {
          "output_type": "display_data",
          "data": {
            "image/png": "[encoded data removed]",
            "text/plain": [
              "<Figure size 432x288 with 1 Axes>"
            ]
          },
          "metadata": {
            "tags": []
          }
        }
      ]
    },
    {
      "cell_type": "markdown",
      "metadata": {
        "id": "O6gX0bMCiFx5"
      },
      "source": [
        "plotting pie-chart using treated outliers and not treated outliers."
      ]
    },
    {
      "cell_type": "code",
      "metadata": {
        "colab": {
          "base_uri": "https://localhost:8080/",
          "height": 582
        },
        "id": "VjQ6NiqU7KAX",
        "outputId": "dd701b33-1c78-4858-b8b7-f80960b2da31"
      },
      "source": [
        "d1=0\n",
        "d2=0\n",
        "d3=0\n",
        "d4=0\n",
        "debt=Data['debtinc']\n",
        "defaulter=Data['default']\n",
        "for i in range(850):\n",
        "  if debt[i]>=0.0 and debt[i]<10.0:\n",
        "    d1=d1+int(defaulter[i])\n",
        "  elif debt[i]>=10.0 and debt[i]<20.0:\n",
        "    d2=d2+int(defaulter[i])\n",
        "  elif debt[i]>=20.0 and debt[i]<30.0:\n",
        "    d3=d3+int(defaulter[i])\n",
        "  elif age[i]>=30.0 and debt[i]<43.0:\n",
        "    d4=d4+int(defaulter[i])\n",
        "    \n",
        "y=np.array([d1,d2,d3,d4])\n",
        "mylabels=['0-10 debt','10-20 debt','20-30 debt','30-43 debt']\n",
        "plt.legend(title=\"Debt to income ratio in percentage\")\n",
        "plt.pie(y,labels=mylabels,startangle=90,shadow=True,explode=(0.1,0.1,0.1,0.1),autopct='%1.2f%%')\n",
        "plt.title(\"No. of defaulters in different debt income slabs\")\n",
        "print(plt.show())\n",
        "\n",
        "\n",
        "\n",
        "d1=0\n",
        "d2=0\n",
        "d3=0\n",
        "d4=0\n",
        "debt=Debtinc\n",
        "defaulter=Data['default']\n",
        "for i in range(850):\n",
        "  if debt[i]>=0.0 and debt[i]<10.0:\n",
        "    d1=d1+int(defaulter[i])\n",
        "  elif debt[i]>=10.0 and debt[i]<20.0:\n",
        "    d2=d2+int(defaulter[i])\n",
        "  elif debt[i]>=20.0 and debt[i]<30.0:\n",
        "    d3=d3+int(defaulter[i])\n",
        "  elif age[i]>=30.0 and debt[i]<43.0:\n",
        "    d4=d4+int(defaulter[i])\n",
        "    \n",
        "y=np.array([d1,d2,d3,d4])\n",
        "mylabels=['0-10 debt','10-20 debt','20-30 debt','30-43 debt']\n",
        "plt.legend(title=\"Debt to income ratio in percentage\")\n",
        "plt.pie(y,labels=mylabels,startangle=90,shadow=True,explode=(0.1,0.1,0.1,0.1),autopct='%1.2f%%')\n",
        "plt.title(\"No. of defaulters in different debt income slabs\")\n",
        "print(plt.show())"
      ],
      "execution_count": null,
      "outputs": [
        {
          "output_type": "stream",
          "text": [
            "No handles with labels found to put in legend.\n"
          ],
          "name": "stderr"
        },
        {
          "output_type": "display_data",
          "data": {
            "image/png": "[encoded data removed]",
            "text/plain": [
              "<Figure size 432x288 with 1 Axes>"
            ]
          },
          "metadata": {
            "tags": []
          }
        },
        {
          "output_type": "stream",
          "text": [
            "No handles with labels found to put in legend.\n"
          ],
          "name": "stderr"
        },
        {
          "output_type": "stream",
          "text": [
            "None\n"
          ],
          "name": "stdout"
        },
        {
          "output_type": "display_data",
          "data": {
            "image/png": "[encoded data removed]",
            "text/plain": [
              "<Figure size 432x288 with 1 Axes>"
            ]
          },
          "metadata": {
            "tags": []
          }
        },
        {
          "output_type": "stream",
          "text": [
            "None\n"
          ],
          "name": "stdout"
        }
      ]
    },
    {
      "cell_type": "markdown",
      "metadata": {
        "id": "h9dy5vG_rvTf"
      },
      "source": [
        "In the above pie charts,we can see the pie chart plotted using variable which has outliers giving more information than the other."
      ]
    },
    {
      "cell_type": "code",
      "metadata": {
        "colab": {
          "base_uri": "https://localhost:8080/"
        },
        "id": "Ev7Itrp7lSny",
        "outputId": "932d74a3-69b9-4231-887a-60ac95fbb95e"
      },
      "source": [
        "Debtinc.describe()"
      ],
      "execution_count": null,
      "outputs": [
        {
          "output_type": "execute_result",
          "data": {
            "text/plain": [
              "count    850.000000\n",
              "mean      10.171647\n",
              "std        6.719441\n",
              "min        0.100000\n",
              "25%        5.100000\n",
              "50%        8.700000\n",
              "75%       13.800000\n",
              "max       41.300000\n",
              "Name: debtinc, dtype: float64"
            ]
          },
          "metadata": {
            "tags": []
          },
          "execution_count": 210
        }
      ]
    },
    {
      "cell_type": "code",
      "metadata": {
        "colab": {
          "base_uri": "https://localhost:8080/",
          "height": 282
        },
        "id": "NGLjJDRi8tOm",
        "outputId": "20b08d4c-ed70-4511-9852-d31f7d627f9a"
      },
      "source": [
        "d1=0\n",
        "d2=0\n",
        "d3=0\n",
        "d4=0\n",
        "debt=Debtinc\n",
        "defaulter=Data['default']\n",
        "for i in range(850):\n",
        "  if debt[i]>=0.0 and debt[i]<10.0:\n",
        "    d1=d1+1\n",
        "  elif debt[i]>=10.0 and debt[i]<20.0:\n",
        "    d2=d2+1\n",
        "  elif debt[i]>=20.0 and debt[i]<30.0:\n",
        "    d3=d3+1\n",
        "  elif age[i]>=30.0 and debt[i]<43.0:\n",
        "    d4=d4+1\n",
        "    \n",
        "y=np.array([d1,d2,d3,d4])\n",
        "mylabels=['0-10 debt','10-20 debt','20-30 debt','30-43 debt']\n",
        "plt.legend(title=\"Debt to income ratio in percentage\")\n",
        "plt.pie(y,labels=mylabels,startangle=90,shadow=True,explode=(0.1,0.1,0.1,0.1),autopct='%1.2f%%')\n",
        "plt.title(\"No. of people in different debt income slabs\")\n",
        "plt.show()\n",
        "\n"
      ],
      "execution_count": null,
      "outputs": [
        {
          "output_type": "stream",
          "text": [
            "No handles with labels found to put in legend.\n"
          ],
          "name": "stderr"
        },
        {
          "output_type": "display_data",
          "data": {
            "image/png": "[encoded data removed]",
            "text/plain": [
              "<Figure size 432x288 with 1 Axes>"
            ]
          },
          "metadata": {
            "tags": []
          }
        }
      ]
    },
    {
      "cell_type": "markdown",
      "metadata": {
        "id": "tlT2xDTI9qCn"
      },
      "source": [
        "when comparing last two pie charts, we can see that people in debt 0-10 slab are considerably large but defaulters are very less in this region.\n",
        "Similarly, people in debt 20-30 and 30-43 slabs are very less but defaulters are very high in this region.\n",
        "  "
      ]
    },
    {
      "cell_type": "code",
      "metadata": {
        "id": "9y_ZolXWEvXV",
        "colab": {
          "base_uri": "https://localhost:8080/",
          "height": 340
        },
        "outputId": "a66308a9-dbf5-43d7-c6e6-5ef4c76ee2a8"
      },
      "source": [
        "corr = new.corr()\n",
        "sns.heatmap(corr,annot=True,cmap='Reds')"
      ],
      "execution_count": null,
      "outputs": [
        {
          "output_type": "execute_result",
          "data": {
            "text/plain": [
              "<matplotlib.axes._subplots.AxesSubplot at 0x7fdbe0dcd050>"
            ]
          },
          "metadata": {
            "tags": []
          },
          "execution_count": 213
        },
        {
          "output_type": "display_data",
          "data": {
            "image/png": "[encoded data removed]",
            "text/plain": [
              "<Figure size 432x288 with 2 Axes>"
            ]
          },
          "metadata": {
            "tags": [],
            "needs_background": "light"
          }
        }
      ]
    },
    {
      "cell_type": "code",
      "metadata": {
        "id": "eSzxJa_-tOdy"
      },
      "source": [
        ""
      ],
      "execution_count": null,
      "outputs": []
    }
  ]
}